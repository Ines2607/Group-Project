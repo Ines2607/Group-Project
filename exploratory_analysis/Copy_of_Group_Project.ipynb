{
  "nbformat": 4,
  "nbformat_minor": 0,
  "metadata": {
    "kernelspec": {
      "display_name": "Python 3",
      "language": "python",
      "name": "python3"
    },
    "language_info": {
      "codemirror_mode": {
        "name": "ipython",
        "version": 3
      },
      "file_extension": ".py",
      "mimetype": "text/x-python",
      "name": "python",
      "nbconvert_exporter": "python",
      "pygments_lexer": "ipython3",
      "version": "3.7.4"
    },
    "colab": {
      "name": "Copy of Group Project.ipynb",
      "provenance": []
    }
  },
  "cells": [
    {
      "cell_type": "code",
      "metadata": {
        "id": "Ab8O0NvUs16y",
        "colab_type": "code",
        "colab": {}
      },
      "source": [
        "import seaborn as sns"
      ],
      "execution_count": 0,
      "outputs": []
    },
    {
      "cell_type": "code",
      "metadata": {
        "id": "80XzeUaXs164",
        "colab_type": "code",
        "colab": {}
      },
      "source": [
        "import pandas as pd\n",
        "import numpy as np"
      ],
      "execution_count": 0,
      "outputs": []
    },
    {
      "cell_type": "code",
      "metadata": {
        "id": "nZoxUSODs8g5",
        "colab_type": "code",
        "outputId": "5bc64282-d234-42a9-f029-1d2427ce61cb",
        "colab": {
          "base_uri": "https://localhost:8080/",
          "height": 457
        }
      },
      "source": [
        "!pip install geopandas"
      ],
      "execution_count": 0,
      "outputs": [
        {
          "output_type": "stream",
          "text": [
            "Collecting geopandas\n",
            "\u001b[?25l  Downloading https://files.pythonhosted.org/packages/5b/0c/e6c99e561b03482220f00443f610ccf4dce9b50f4b1093d735f93c6fc8c6/geopandas-0.6.2-py2.py3-none-any.whl (919kB)\n",
            "\u001b[K     |████████████████████████████████| 921kB 2.5MB/s \n",
            "\u001b[?25hCollecting fiona\n",
            "\u001b[?25l  Downloading https://files.pythonhosted.org/packages/50/f7/9899f8a9a2e38601472fe1079ce5088f58833221c8b8507d8b5eafd5404a/Fiona-1.8.13-cp36-cp36m-manylinux1_x86_64.whl (11.8MB)\n",
            "\u001b[K     |████████████████████████████████| 11.8MB 335kB/s \n",
            "\u001b[?25hRequirement already satisfied: pandas>=0.23.0 in /usr/local/lib/python3.6/dist-packages (from geopandas) (0.25.3)\n",
            "Requirement already satisfied: shapely in /usr/local/lib/python3.6/dist-packages (from geopandas) (1.6.4.post2)\n",
            "Collecting pyproj\n",
            "\u001b[?25l  Downloading https://files.pythonhosted.org/packages/d6/70/eedc98cd52b86de24a1589c762612a98bea26cde649ffdd60c1db396cce8/pyproj-2.4.2.post1-cp36-cp36m-manylinux2010_x86_64.whl (10.1MB)\n",
            "\u001b[K     |████████████████████████████████| 10.1MB 46.6MB/s \n",
            "\u001b[?25hRequirement already satisfied: six>=1.7 in /usr/local/lib/python3.6/dist-packages (from fiona->geopandas) (1.12.0)\n",
            "Requirement already satisfied: click<8,>=4.0 in /usr/local/lib/python3.6/dist-packages (from fiona->geopandas) (7.0)\n",
            "Collecting cligj>=0.5\n",
            "  Downloading https://files.pythonhosted.org/packages/e4/be/30a58b4b0733850280d01f8bd132591b4668ed5c7046761098d665ac2174/cligj-0.5.0-py3-none-any.whl\n",
            "Collecting munch\n",
            "  Downloading https://files.pythonhosted.org/packages/cc/ab/85d8da5c9a45e072301beb37ad7f833cd344e04c817d97e0cc75681d248f/munch-2.5.0-py2.py3-none-any.whl\n",
            "Requirement already satisfied: attrs>=17 in /usr/local/lib/python3.6/dist-packages (from fiona->geopandas) (19.3.0)\n",
            "Collecting click-plugins>=1.0\n",
            "  Downloading https://files.pythonhosted.org/packages/e9/da/824b92d9942f4e472702488857914bdd50f73021efea15b4cad9aca8ecef/click_plugins-1.1.1-py2.py3-none-any.whl\n",
            "Requirement already satisfied: pytz>=2017.2 in /usr/local/lib/python3.6/dist-packages (from pandas>=0.23.0->geopandas) (2018.9)\n",
            "Requirement already satisfied: python-dateutil>=2.6.1 in /usr/local/lib/python3.6/dist-packages (from pandas>=0.23.0->geopandas) (2.6.1)\n",
            "Requirement already satisfied: numpy>=1.13.3 in /usr/local/lib/python3.6/dist-packages (from pandas>=0.23.0->geopandas) (1.17.5)\n",
            "Installing collected packages: cligj, munch, click-plugins, fiona, pyproj, geopandas\n",
            "Successfully installed click-plugins-1.1.1 cligj-0.5.0 fiona-1.8.13 geopandas-0.6.2 munch-2.5.0 pyproj-2.4.2.post1\n"
          ],
          "name": "stdout"
        }
      ]
    },
    {
      "cell_type": "code",
      "metadata": {
        "id": "2sYJBnQEs168",
        "colab_type": "code",
        "colab": {}
      },
      "source": [
        "import geopandas as gpd"
      ],
      "execution_count": 0,
      "outputs": []
    },
    {
      "cell_type": "code",
      "metadata": {
        "id": "hZFKEdZfs16_",
        "colab_type": "code",
        "colab": {}
      },
      "source": [
        "df=pd.read_csv(open('C:/Users/Intra24/Documents/ArcGIS/Export_Output.txt'))"
      ],
      "execution_count": 0,
      "outputs": []
    },
    {
      "cell_type": "code",
      "metadata": {
        "id": "XvHGbvWQs17F",
        "colab_type": "code",
        "outputId": "45b8101f-c77c-4027-bf1d-7e9b828c2230",
        "colab": {}
      },
      "source": [
        "df.describe()"
      ],
      "execution_count": 0,
      "outputs": [
        {
          "output_type": "execute_result",
          "data": {
            "text/html": [
              "<div>\n",
              "<style scoped>\n",
              "    .dataframe tbody tr th:only-of-type {\n",
              "        vertical-align: middle;\n",
              "    }\n",
              "\n",
              "    .dataframe tbody tr th {\n",
              "        vertical-align: top;\n",
              "    }\n",
              "\n",
              "    .dataframe thead th {\n",
              "        text-align: right;\n",
              "    }\n",
              "</style>\n",
              "<table border=\"1\" class=\"dataframe\">\n",
              "  <thead>\n",
              "    <tr style=\"text-align: right;\">\n",
              "      <th></th>\n",
              "      <th>fid</th>\n",
              "      <th>max_height</th>\n",
              "      <th>parking_spaces</th>\n",
              "      <th>one_bed_units</th>\n",
              "      <th>two_bed_units</th>\n",
              "      <th>three_bed_units</th>\n",
              "      <th>four_plus_bed_units</th>\n",
              "      <th>has_underground_parking</th>\n",
              "      <th>studio_units</th>\n",
              "      <th>on_highstreet</th>\n",
              "      <th>units</th>\n",
              "    </tr>\n",
              "  </thead>\n",
              "  <tbody>\n",
              "    <tr>\n",
              "      <td>count</td>\n",
              "      <td>113.00000</td>\n",
              "      <td>111.000000</td>\n",
              "      <td>113.000000</td>\n",
              "      <td>108.000000</td>\n",
              "      <td>108.000000</td>\n",
              "      <td>108.000000</td>\n",
              "      <td>108.000000</td>\n",
              "      <td>107.000000</td>\n",
              "      <td>58.000000</td>\n",
              "      <td>15.000000</td>\n",
              "      <td>113.000000</td>\n",
              "    </tr>\n",
              "    <tr>\n",
              "      <td>mean</td>\n",
              "      <td>57.00000</td>\n",
              "      <td>10.228622</td>\n",
              "      <td>7.477876</td>\n",
              "      <td>2.037037</td>\n",
              "      <td>5.453704</td>\n",
              "      <td>0.546296</td>\n",
              "      <td>0.240741</td>\n",
              "      <td>0.130841</td>\n",
              "      <td>0.068966</td>\n",
              "      <td>0.866667</td>\n",
              "      <td>8.557522</td>\n",
              "    </tr>\n",
              "    <tr>\n",
              "      <td>std</td>\n",
              "      <td>32.76431</td>\n",
              "      <td>1.821084</td>\n",
              "      <td>8.281970</td>\n",
              "      <td>2.874073</td>\n",
              "      <td>3.677119</td>\n",
              "      <td>1.423332</td>\n",
              "      <td>1.281576</td>\n",
              "      <td>0.338813</td>\n",
              "      <td>0.368118</td>\n",
              "      <td>0.351866</td>\n",
              "      <td>3.856669</td>\n",
              "    </tr>\n",
              "    <tr>\n",
              "      <td>min</td>\n",
              "      <td>1.00000</td>\n",
              "      <td>6.280000</td>\n",
              "      <td>0.000000</td>\n",
              "      <td>0.000000</td>\n",
              "      <td>0.000000</td>\n",
              "      <td>0.000000</td>\n",
              "      <td>0.000000</td>\n",
              "      <td>0.000000</td>\n",
              "      <td>0.000000</td>\n",
              "      <td>0.000000</td>\n",
              "      <td>6.000000</td>\n",
              "    </tr>\n",
              "    <tr>\n",
              "      <td>25%</td>\n",
              "      <td>29.00000</td>\n",
              "      <td>8.740000</td>\n",
              "      <td>4.000000</td>\n",
              "      <td>0.000000</td>\n",
              "      <td>3.000000</td>\n",
              "      <td>0.000000</td>\n",
              "      <td>0.000000</td>\n",
              "      <td>0.000000</td>\n",
              "      <td>0.000000</td>\n",
              "      <td>1.000000</td>\n",
              "      <td>6.000000</td>\n",
              "    </tr>\n",
              "    <tr>\n",
              "      <td>50%</td>\n",
              "      <td>57.00000</td>\n",
              "      <td>9.850000</td>\n",
              "      <td>7.000000</td>\n",
              "      <td>1.000000</td>\n",
              "      <td>5.500000</td>\n",
              "      <td>0.000000</td>\n",
              "      <td>0.000000</td>\n",
              "      <td>0.000000</td>\n",
              "      <td>0.000000</td>\n",
              "      <td>1.000000</td>\n",
              "      <td>8.000000</td>\n",
              "    </tr>\n",
              "    <tr>\n",
              "      <td>75%</td>\n",
              "      <td>85.00000</td>\n",
              "      <td>11.910000</td>\n",
              "      <td>9.000000</td>\n",
              "      <td>3.000000</td>\n",
              "      <td>7.000000</td>\n",
              "      <td>0.000000</td>\n",
              "      <td>0.000000</td>\n",
              "      <td>0.000000</td>\n",
              "      <td>0.000000</td>\n",
              "      <td>1.000000</td>\n",
              "      <td>9.000000</td>\n",
              "    </tr>\n",
              "    <tr>\n",
              "      <td>max</td>\n",
              "      <td>113.00000</td>\n",
              "      <td>16.000000</td>\n",
              "      <td>78.000000</td>\n",
              "      <td>17.000000</td>\n",
              "      <td>20.000000</td>\n",
              "      <td>8.000000</td>\n",
              "      <td>8.000000</td>\n",
              "      <td>1.000000</td>\n",
              "      <td>2.000000</td>\n",
              "      <td>1.000000</td>\n",
              "      <td>30.000000</td>\n",
              "    </tr>\n",
              "  </tbody>\n",
              "</table>\n",
              "</div>"
            ],
            "text/plain": [
              "             fid  max_height  parking_spaces  one_bed_units  two_bed_units  \\\n",
              "count  113.00000  111.000000      113.000000     108.000000     108.000000   \n",
              "mean    57.00000   10.228622        7.477876       2.037037       5.453704   \n",
              "std     32.76431    1.821084        8.281970       2.874073       3.677119   \n",
              "min      1.00000    6.280000        0.000000       0.000000       0.000000   \n",
              "25%     29.00000    8.740000        4.000000       0.000000       3.000000   \n",
              "50%     57.00000    9.850000        7.000000       1.000000       5.500000   \n",
              "75%     85.00000   11.910000        9.000000       3.000000       7.000000   \n",
              "max    113.00000   16.000000       78.000000      17.000000      20.000000   \n",
              "\n",
              "       three_bed_units  four_plus_bed_units  has_underground_parking  \\\n",
              "count       108.000000           108.000000               107.000000   \n",
              "mean          0.546296             0.240741                 0.130841   \n",
              "std           1.423332             1.281576                 0.338813   \n",
              "min           0.000000             0.000000                 0.000000   \n",
              "25%           0.000000             0.000000                 0.000000   \n",
              "50%           0.000000             0.000000                 0.000000   \n",
              "75%           0.000000             0.000000                 0.000000   \n",
              "max           8.000000             8.000000                 1.000000   \n",
              "\n",
              "       studio_units  on_highstreet       units  \n",
              "count     58.000000      15.000000  113.000000  \n",
              "mean       0.068966       0.866667    8.557522  \n",
              "std        0.368118       0.351866    3.856669  \n",
              "min        0.000000       0.000000    6.000000  \n",
              "25%        0.000000       1.000000    6.000000  \n",
              "50%        0.000000       1.000000    8.000000  \n",
              "75%        0.000000       1.000000    9.000000  \n",
              "max        2.000000       1.000000   30.000000  "
            ]
          },
          "metadata": {
            "tags": []
          },
          "execution_count": 5
        }
      ]
    },
    {
      "cell_type": "code",
      "metadata": {
        "id": "hVChpPyos17O",
        "colab_type": "code",
        "outputId": "eb41c991-8b8a-4d7d-9ad6-1038a083fa56",
        "colab": {}
      },
      "source": [
        "[ i for i in df.columns[:-2].tolist() if i not in rej_columns]"
      ],
      "execution_count": 0,
      "outputs": [
        {
          "output_type": "execute_result",
          "data": {
            "text/plain": [
              "['fid',\n",
              " 'planning_application',\n",
              " 'max_height',\n",
              " 'parking_spaces',\n",
              " 'one_bed_units',\n",
              " 'two_bed_units',\n",
              " 'three_bed_units',\n",
              " 'four_plus_bed_units',\n",
              " 'has_underground_parking',\n",
              " 'studio_units',\n",
              " 'on_highstreet',\n",
              " 'postcode',\n",
              " 'status',\n",
              " 'address',\n",
              " 'town',\n",
              " 'inspire_ids',\n",
              " 'on_corner',\n",
              " 'units']"
            ]
          },
          "metadata": {
            "tags": []
          },
          "execution_count": 92
        }
      ]
    },
    {
      "cell_type": "code",
      "metadata": {
        "id": "-9KvAs3Ls17S",
        "colab_type": "code",
        "colab": {}
      },
      "source": [
        ""
      ],
      "execution_count": 0,
      "outputs": []
    },
    {
      "cell_type": "code",
      "metadata": {
        "id": "Jg-zjJgMs17X",
        "colab_type": "code",
        "outputId": "25c0dca8-0a28-4e72-e3a1-4c04e08a13a1",
        "colab": {}
      },
      "source": [
        "df.one_bed_units.isnull().sum()"
      ],
      "execution_count": 0,
      "outputs": [
        {
          "output_type": "execute_result",
          "data": {
            "text/plain": [
              "5"
            ]
          },
          "metadata": {
            "tags": []
          },
          "execution_count": 6
        }
      ]
    },
    {
      "cell_type": "code",
      "metadata": {
        "id": "8DCbX9Ajs17b",
        "colab_type": "code",
        "colab": {}
      },
      "source": [
        "from matplotlib import pyplot as plt"
      ],
      "execution_count": 0,
      "outputs": []
    },
    {
      "cell_type": "code",
      "metadata": {
        "id": "lIkgjMBvs17e",
        "colab_type": "code",
        "outputId": "b411cc52-a31c-4031-dc06-68d7b6c62ef3",
        "colab": {}
      },
      "source": [
        "df.status.value_counts().plot(kind='bar', figsize=(10,6))\n",
        "plt.title('Statuses of applications in the dataset')"
      ],
      "execution_count": 0,
      "outputs": [
        {
          "output_type": "execute_result",
          "data": {
            "text/plain": [
              "Text(0.5, 1.0, 'Statuses of applications in the dataset')"
            ]
          },
          "metadata": {
            "tags": []
          },
          "execution_count": 38
        },
        {
          "output_type": "display_data",
          "data": {
            "image/png": "[encoded data removed]",
            "text/plain": [
              "<Figure size 720x432 with 1 Axes>"
            ]
          },
          "metadata": {
            "tags": [],
            "needs_background": "light"
          }
        }
      ]
    },
    {
      "cell_type": "code",
      "metadata": {
        "id": "cWPafKl6s17i",
        "colab_type": "code",
        "outputId": "b2150f3a-e0ef-4b84-fec3-f4b1a7abcc57",
        "colab": {}
      },
      "source": [
        "df.status.value_counts()"
      ],
      "execution_count": 0,
      "outputs": [
        {
          "output_type": "execute_result",
          "data": {
            "text/plain": [
              "appeal_dismissed    36\n",
              "approved            36\n",
              "refused             25\n",
              "appeal_allowed      16\n",
              "Name: status, dtype: int64"
            ]
          },
          "metadata": {
            "tags": []
          },
          "execution_count": 118
        }
      ]
    },
    {
      "cell_type": "code",
      "metadata": {
        "id": "WMBg7lZds17l",
        "colab_type": "code",
        "outputId": "19e6ef69-15e7-4417-e682-27afc8bd1a90",
        "colab": {}
      },
      "source": [
        "df.if_reject.map({True:'rejected', False:'approved'}).value_counts().plot(kind='bar', figsize=(10,6), color='orange')\n",
        "plt.title('Statuses of applications in the dataset after modification')\n"
      ],
      "execution_count": 0,
      "outputs": [
        {
          "output_type": "execute_result",
          "data": {
            "text/plain": [
              "Text(0.5, 1.0, 'Statuses of applications in the dataset after modification')"
            ]
          },
          "metadata": {
            "tags": []
          },
          "execution_count": 70
        },
        {
          "output_type": "display_data",
          "data": {
            "image/png": "[encoded data removed]",
            "text/plain": [
              "<Figure size 720x432 with 1 Axes>"
            ]
          },
          "metadata": {
            "tags": [],
            "needs_background": "light"
          }
        }
      ]
    },
    {
      "cell_type": "code",
      "metadata": {
        "id": "FBn-5rX2s17o",
        "colab_type": "code",
        "outputId": "030fd3ad-b896-4155-b5bc-a797f6fc2b46",
        "colab": {}
      },
      "source": [
        "df[[ i for i in df.columns if i not in rej_columns]].isnull().mean().plot(kind='bar', figsize=(16,9))\n",
        "plt.yticks(np.arange(0,1.1,0.1))\n",
        "plt.title('Share of missings in each descriptive feature')"
      ],
      "execution_count": 0,
      "outputs": [
        {
          "output_type": "execute_result",
          "data": {
            "text/plain": [
              "Text(0.5, 1.0, 'Share of missings in each descriptive feature')"
            ]
          },
          "metadata": {
            "tags": []
          },
          "execution_count": 115
        },
        {
          "output_type": "display_data",
          "data": {
            "image/png": "[encoded data removed]",
            "text/plain": [
              "<Figure size 1152x648 with 1 Axes>"
            ]
          },
          "metadata": {
            "tags": [],
            "needs_background": "light"
          }
        }
      ]
    },
    {
      "cell_type": "code",
      "metadata": {
        "id": "l_x2E9LIs17t",
        "colab_type": "code",
        "outputId": "15d68e54-71a1-4af2-a853-291156c48dd5",
        "colab": {}
      },
      "source": [
        "df['on_highstreet'].value_counts()"
      ],
      "execution_count": 0,
      "outputs": [
        {
          "output_type": "execute_result",
          "data": {
            "text/plain": [
              "1.0    13\n",
              "0.0     2\n",
              "Name: on_highstreet, dtype: int64"
            ]
          },
          "metadata": {
            "tags": []
          },
          "execution_count": 108
        }
      ]
    },
    {
      "cell_type": "code",
      "metadata": {
        "id": "ds11MT0Os17w",
        "colab_type": "code",
        "outputId": "08bc9eae-03b7-4571-b67a-d71b9f81fb33",
        "colab": {}
      },
      "source": [
        "df['planning_application'].nunique()"
      ],
      "execution_count": 0,
      "outputs": [
        {
          "output_type": "execute_result",
          "data": {
            "text/plain": [
              "113"
            ]
          },
          "metadata": {
            "tags": []
          },
          "execution_count": 150
        }
      ]
    },
    {
      "cell_type": "code",
      "metadata": {
        "id": "nRZowZTds170",
        "colab_type": "code",
        "outputId": "fe9ffdb3-2ddb-4335-cdfd-78fcaae2bb07",
        "colab": {}
      },
      "source": [
        "df['planning_application'].apply(lambda x: x.split('/')[1]).value_counts()"
      ],
      "execution_count": 0,
      "outputs": [
        {
          "output_type": "execute_result",
          "data": {
            "text/plain": [
              "02693    2\n",
              "04199    2\n",
              "03789    1\n",
              "04322    1\n",
              "05229    1\n",
              "        ..\n",
              "03267    1\n",
              "01262    1\n",
              "05736    1\n",
              "04754    1\n",
              "01241    1\n",
              "Name: planning_application, Length: 111, dtype: int64"
            ]
          },
          "metadata": {
            "tags": []
          },
          "execution_count": 157
        }
      ]
    },
    {
      "cell_type": "code",
      "metadata": {
        "id": "BuY6doUMs173",
        "colab_type": "code",
        "colab": {}
      },
      "source": [
        "v=[i for i in df['planning_application'] if '04199'in i ]"
      ],
      "execution_count": 0,
      "outputs": []
    },
    {
      "cell_type": "code",
      "metadata": {
        "id": "7g0l_x-Ws178",
        "colab_type": "code",
        "outputId": "9b4ec899-f6f7-4d86-a0f7-1d501423cc74",
        "colab": {}
      },
      "source": [
        "df[ df ['planning_application'].isin (v)]"
      ],
      "execution_count": 0,
      "outputs": [
        {
          "output_type": "execute_result",
          "data": {
            "text/html": [
              "<div>\n",
              "<style scoped>\n",
              "    .dataframe tbody tr th:only-of-type {\n",
              "        vertical-align: middle;\n",
              "    }\n",
              "\n",
              "    .dataframe tbody tr th {\n",
              "        vertical-align: top;\n",
              "    }\n",
              "\n",
              "    .dataframe thead th {\n",
              "        text-align: right;\n",
              "    }\n",
              "</style>\n",
              "<table border=\"1\" class=\"dataframe\">\n",
              "  <thead>\n",
              "    <tr style=\"text-align: right;\">\n",
              "      <th></th>\n",
              "      <th>fid</th>\n",
              "      <th>planning_application</th>\n",
              "      <th>max_height</th>\n",
              "      <th>parking_spaces</th>\n",
              "      <th>one_bed_units</th>\n",
              "      <th>two_bed_units</th>\n",
              "      <th>three_bed_units</th>\n",
              "      <th>four_plus_bed_units</th>\n",
              "      <th>has_underground_parking</th>\n",
              "      <th>studio_units</th>\n",
              "      <th>...</th>\n",
              "      <th>rejected_size</th>\n",
              "      <th>rejected_neighbour_effect</th>\n",
              "      <th>rejected_living_conditions</th>\n",
              "      <th>rejected_parking</th>\n",
              "      <th>rejected_local_character</th>\n",
              "      <th>units</th>\n",
              "      <th>reason_of_rejection</th>\n",
              "      <th>if_reject</th>\n",
              "      <th>appealed</th>\n",
              "      <th>if_rejected</th>\n",
              "    </tr>\n",
              "  </thead>\n",
              "  <tbody>\n",
              "    <tr>\n",
              "      <td>0</td>\n",
              "      <td>1</td>\n",
              "      <td>18/04199/OUT</td>\n",
              "      <td>NaN</td>\n",
              "      <td>11</td>\n",
              "      <td>NaN</td>\n",
              "      <td>NaN</td>\n",
              "      <td>NaN</td>\n",
              "      <td>NaN</td>\n",
              "      <td>0.0</td>\n",
              "      <td>NaN</td>\n",
              "      <td>...</td>\n",
              "      <td>NaN</td>\n",
              "      <td>NaN</td>\n",
              "      <td>NaN</td>\n",
              "      <td>NaN</td>\n",
              "      <td>NaN</td>\n",
              "      <td>9</td>\n",
              "      <td></td>\n",
              "      <td>False</td>\n",
              "      <td>False</td>\n",
              "      <td>approved</td>\n",
              "    </tr>\n",
              "    <tr>\n",
              "      <td>40</td>\n",
              "      <td>41</td>\n",
              "      <td>14/04199/FULL1</td>\n",
              "      <td>16.0</td>\n",
              "      <td>24</td>\n",
              "      <td>9.0</td>\n",
              "      <td>20.0</td>\n",
              "      <td>0.0</td>\n",
              "      <td>0.0</td>\n",
              "      <td>0.0</td>\n",
              "      <td>NaN</td>\n",
              "      <td>...</td>\n",
              "      <td>NaN</td>\n",
              "      <td>NaN</td>\n",
              "      <td>NaN</td>\n",
              "      <td>NaN</td>\n",
              "      <td>NaN</td>\n",
              "      <td>30</td>\n",
              "      <td></td>\n",
              "      <td>False</td>\n",
              "      <td>False</td>\n",
              "      <td>approved</td>\n",
              "    </tr>\n",
              "  </tbody>\n",
              "</table>\n",
              "<p>2 rows × 27 columns</p>\n",
              "</div>"
            ],
            "text/plain": [
              "    fid planning_application  max_height  parking_spaces  one_bed_units  \\\n",
              "0     1         18/04199/OUT         NaN              11            NaN   \n",
              "40   41       14/04199/FULL1        16.0              24            9.0   \n",
              "\n",
              "    two_bed_units  three_bed_units  four_plus_bed_units  \\\n",
              "0             NaN              NaN                  NaN   \n",
              "40           20.0              0.0                  0.0   \n",
              "\n",
              "    has_underground_parking  studio_units  ...  rejected_size  \\\n",
              "0                       0.0           NaN  ...            NaN   \n",
              "40                      0.0           NaN  ...            NaN   \n",
              "\n",
              "   rejected_neighbour_effect rejected_living_conditions rejected_parking  \\\n",
              "0                        NaN                        NaN              NaN   \n",
              "40                       NaN                        NaN              NaN   \n",
              "\n",
              "   rejected_local_character units reason_of_rejection if_reject appealed  \\\n",
              "0                       NaN     9                         False    False   \n",
              "40                      NaN    30                         False    False   \n",
              "\n",
              "   if_rejected  \n",
              "0     approved  \n",
              "40    approved  \n",
              "\n",
              "[2 rows x 27 columns]"
            ]
          },
          "metadata": {
            "tags": []
          },
          "execution_count": 166
        }
      ]
    },
    {
      "cell_type": "code",
      "metadata": {
        "id": "SgfLXhprs18A",
        "colab_type": "code",
        "outputId": "3a401b8a-23a0-430d-866b-2a197062ab38",
        "colab": {}
      },
      "source": [
        "df[df['appealed']][['status']+rej_columns]"
      ],
      "execution_count": 0,
      "outputs": [
        {
          "output_type": "execute_result",
          "data": {
            "text/html": [
              "<div>\n",
              "<style scoped>\n",
              "    .dataframe tbody tr th:only-of-type {\n",
              "        vertical-align: middle;\n",
              "    }\n",
              "\n",
              "    .dataframe tbody tr th {\n",
              "        vertical-align: top;\n",
              "    }\n",
              "\n",
              "    .dataframe thead th {\n",
              "        text-align: right;\n",
              "    }\n",
              "</style>\n",
              "<table border=\"1\" class=\"dataframe\">\n",
              "  <thead>\n",
              "    <tr style=\"text-align: right;\">\n",
              "      <th></th>\n",
              "      <th>status</th>\n",
              "      <th>rejected_size</th>\n",
              "      <th>rejected_neighbour_effect</th>\n",
              "      <th>rejected_living_conditions</th>\n",
              "      <th>rejected_parking</th>\n",
              "      <th>rejected_local_character</th>\n",
              "      <th>reason_of_rejection</th>\n",
              "    </tr>\n",
              "  </thead>\n",
              "  <tbody>\n",
              "    <tr>\n",
              "      <td>1</td>\n",
              "      <td>appeal_dismissed</td>\n",
              "      <td>False</td>\n",
              "      <td>False</td>\n",
              "      <td>False</td>\n",
              "      <td>False</td>\n",
              "      <td>True</td>\n",
              "      <td>local_character</td>\n",
              "    </tr>\n",
              "    <tr>\n",
              "      <td>4</td>\n",
              "      <td>appeal_allowed</td>\n",
              "      <td>NaN</td>\n",
              "      <td>NaN</td>\n",
              "      <td>NaN</td>\n",
              "      <td>NaN</td>\n",
              "      <td>NaN</td>\n",
              "      <td></td>\n",
              "    </tr>\n",
              "    <tr>\n",
              "      <td>6</td>\n",
              "      <td>appeal_dismissed</td>\n",
              "      <td>False</td>\n",
              "      <td>True</td>\n",
              "      <td>False</td>\n",
              "      <td>False</td>\n",
              "      <td>False</td>\n",
              "      <td>neighbour_effect</td>\n",
              "    </tr>\n",
              "    <tr>\n",
              "      <td>8</td>\n",
              "      <td>appeal_dismissed</td>\n",
              "      <td>False</td>\n",
              "      <td>False</td>\n",
              "      <td>True</td>\n",
              "      <td>False</td>\n",
              "      <td>False</td>\n",
              "      <td>living_conditions</td>\n",
              "    </tr>\n",
              "    <tr>\n",
              "      <td>9</td>\n",
              "      <td>appeal_allowed</td>\n",
              "      <td>NaN</td>\n",
              "      <td>NaN</td>\n",
              "      <td>NaN</td>\n",
              "      <td>NaN</td>\n",
              "      <td>NaN</td>\n",
              "      <td></td>\n",
              "    </tr>\n",
              "    <tr>\n",
              "      <td>10</td>\n",
              "      <td>appeal_dismissed</td>\n",
              "      <td>False</td>\n",
              "      <td>False</td>\n",
              "      <td>True</td>\n",
              "      <td>False</td>\n",
              "      <td>False</td>\n",
              "      <td>living_conditions</td>\n",
              "    </tr>\n",
              "    <tr>\n",
              "      <td>13</td>\n",
              "      <td>appeal_dismissed</td>\n",
              "      <td>True</td>\n",
              "      <td>True</td>\n",
              "      <td>False</td>\n",
              "      <td>True</td>\n",
              "      <td>False</td>\n",
              "      <td>size|neighbour_effect|parking</td>\n",
              "    </tr>\n",
              "    <tr>\n",
              "      <td>15</td>\n",
              "      <td>appeal_dismissed</td>\n",
              "      <td>True</td>\n",
              "      <td>False</td>\n",
              "      <td>False</td>\n",
              "      <td>False</td>\n",
              "      <td>False</td>\n",
              "      <td>size</td>\n",
              "    </tr>\n",
              "    <tr>\n",
              "      <td>17</td>\n",
              "      <td>appeal_allowed</td>\n",
              "      <td>NaN</td>\n",
              "      <td>NaN</td>\n",
              "      <td>NaN</td>\n",
              "      <td>NaN</td>\n",
              "      <td>NaN</td>\n",
              "      <td></td>\n",
              "    </tr>\n",
              "    <tr>\n",
              "      <td>19</td>\n",
              "      <td>appeal_allowed</td>\n",
              "      <td>NaN</td>\n",
              "      <td>NaN</td>\n",
              "      <td>NaN</td>\n",
              "      <td>NaN</td>\n",
              "      <td>NaN</td>\n",
              "      <td></td>\n",
              "    </tr>\n",
              "    <tr>\n",
              "      <td>30</td>\n",
              "      <td>appeal_dismissed</td>\n",
              "      <td>True</td>\n",
              "      <td>False</td>\n",
              "      <td>False</td>\n",
              "      <td>False</td>\n",
              "      <td>False</td>\n",
              "      <td>size</td>\n",
              "    </tr>\n",
              "    <tr>\n",
              "      <td>32</td>\n",
              "      <td>appeal_dismissed</td>\n",
              "      <td>False</td>\n",
              "      <td>False</td>\n",
              "      <td>False</td>\n",
              "      <td>True</td>\n",
              "      <td>False</td>\n",
              "      <td>parking</td>\n",
              "    </tr>\n",
              "    <tr>\n",
              "      <td>33</td>\n",
              "      <td>appeal_dismissed</td>\n",
              "      <td>True</td>\n",
              "      <td>True</td>\n",
              "      <td>False</td>\n",
              "      <td>False</td>\n",
              "      <td>False</td>\n",
              "      <td>size|neighbour_effect</td>\n",
              "    </tr>\n",
              "    <tr>\n",
              "      <td>34</td>\n",
              "      <td>appeal_dismissed</td>\n",
              "      <td>False</td>\n",
              "      <td>True</td>\n",
              "      <td>False</td>\n",
              "      <td>False</td>\n",
              "      <td>True</td>\n",
              "      <td>neighbour_effect|local_character</td>\n",
              "    </tr>\n",
              "    <tr>\n",
              "      <td>36</td>\n",
              "      <td>appeal_allowed</td>\n",
              "      <td>NaN</td>\n",
              "      <td>NaN</td>\n",
              "      <td>NaN</td>\n",
              "      <td>NaN</td>\n",
              "      <td>NaN</td>\n",
              "      <td></td>\n",
              "    </tr>\n",
              "    <tr>\n",
              "      <td>38</td>\n",
              "      <td>appeal_allowed</td>\n",
              "      <td>NaN</td>\n",
              "      <td>NaN</td>\n",
              "      <td>NaN</td>\n",
              "      <td>NaN</td>\n",
              "      <td>NaN</td>\n",
              "      <td></td>\n",
              "    </tr>\n",
              "    <tr>\n",
              "      <td>39</td>\n",
              "      <td>appeal_dismissed</td>\n",
              "      <td>True</td>\n",
              "      <td>False</td>\n",
              "      <td>False</td>\n",
              "      <td>False</td>\n",
              "      <td>False</td>\n",
              "      <td>size</td>\n",
              "    </tr>\n",
              "    <tr>\n",
              "      <td>41</td>\n",
              "      <td>appeal_dismissed</td>\n",
              "      <td>True</td>\n",
              "      <td>True</td>\n",
              "      <td>False</td>\n",
              "      <td>True</td>\n",
              "      <td>False</td>\n",
              "      <td>size|neighbour_effect|parking</td>\n",
              "    </tr>\n",
              "    <tr>\n",
              "      <td>46</td>\n",
              "      <td>appeal_allowed</td>\n",
              "      <td>NaN</td>\n",
              "      <td>NaN</td>\n",
              "      <td>NaN</td>\n",
              "      <td>NaN</td>\n",
              "      <td>NaN</td>\n",
              "      <td></td>\n",
              "    </tr>\n",
              "    <tr>\n",
              "      <td>47</td>\n",
              "      <td>appeal_allowed</td>\n",
              "      <td>NaN</td>\n",
              "      <td>NaN</td>\n",
              "      <td>NaN</td>\n",
              "      <td>NaN</td>\n",
              "      <td>NaN</td>\n",
              "      <td></td>\n",
              "    </tr>\n",
              "    <tr>\n",
              "      <td>48</td>\n",
              "      <td>appeal_dismissed</td>\n",
              "      <td>False</td>\n",
              "      <td>False</td>\n",
              "      <td>False</td>\n",
              "      <td>True</td>\n",
              "      <td>True</td>\n",
              "      <td>parking|local_character</td>\n",
              "    </tr>\n",
              "    <tr>\n",
              "      <td>52</td>\n",
              "      <td>appeal_dismissed</td>\n",
              "      <td>True</td>\n",
              "      <td>False</td>\n",
              "      <td>False</td>\n",
              "      <td>False</td>\n",
              "      <td>False</td>\n",
              "      <td>size</td>\n",
              "    </tr>\n",
              "    <tr>\n",
              "      <td>57</td>\n",
              "      <td>appeal_dismissed</td>\n",
              "      <td>True</td>\n",
              "      <td>False</td>\n",
              "      <td>True</td>\n",
              "      <td>False</td>\n",
              "      <td>False</td>\n",
              "      <td>size|living_conditions</td>\n",
              "    </tr>\n",
              "    <tr>\n",
              "      <td>61</td>\n",
              "      <td>appeal_allowed</td>\n",
              "      <td>NaN</td>\n",
              "      <td>NaN</td>\n",
              "      <td>NaN</td>\n",
              "      <td>NaN</td>\n",
              "      <td>NaN</td>\n",
              "      <td></td>\n",
              "    </tr>\n",
              "    <tr>\n",
              "      <td>62</td>\n",
              "      <td>appeal_dismissed</td>\n",
              "      <td>True</td>\n",
              "      <td>False</td>\n",
              "      <td>False</td>\n",
              "      <td>False</td>\n",
              "      <td>False</td>\n",
              "      <td>size</td>\n",
              "    </tr>\n",
              "    <tr>\n",
              "      <td>63</td>\n",
              "      <td>appeal_dismissed</td>\n",
              "      <td>True</td>\n",
              "      <td>False</td>\n",
              "      <td>False</td>\n",
              "      <td>False</td>\n",
              "      <td>False</td>\n",
              "      <td>size</td>\n",
              "    </tr>\n",
              "    <tr>\n",
              "      <td>67</td>\n",
              "      <td>appeal_allowed</td>\n",
              "      <td>NaN</td>\n",
              "      <td>NaN</td>\n",
              "      <td>NaN</td>\n",
              "      <td>NaN</td>\n",
              "      <td>NaN</td>\n",
              "      <td></td>\n",
              "    </tr>\n",
              "    <tr>\n",
              "      <td>70</td>\n",
              "      <td>appeal_dismissed</td>\n",
              "      <td>True</td>\n",
              "      <td>False</td>\n",
              "      <td>False</td>\n",
              "      <td>False</td>\n",
              "      <td>False</td>\n",
              "      <td>size</td>\n",
              "    </tr>\n",
              "    <tr>\n",
              "      <td>71</td>\n",
              "      <td>appeal_dismissed</td>\n",
              "      <td>False</td>\n",
              "      <td>False</td>\n",
              "      <td>False</td>\n",
              "      <td>False</td>\n",
              "      <td>True</td>\n",
              "      <td>local_character</td>\n",
              "    </tr>\n",
              "    <tr>\n",
              "      <td>72</td>\n",
              "      <td>appeal_dismissed</td>\n",
              "      <td>True</td>\n",
              "      <td>False</td>\n",
              "      <td>True</td>\n",
              "      <td>False</td>\n",
              "      <td>False</td>\n",
              "      <td>size|living_conditions</td>\n",
              "    </tr>\n",
              "    <tr>\n",
              "      <td>73</td>\n",
              "      <td>appeal_dismissed</td>\n",
              "      <td>True</td>\n",
              "      <td>False</td>\n",
              "      <td>False</td>\n",
              "      <td>False</td>\n",
              "      <td>False</td>\n",
              "      <td>size</td>\n",
              "    </tr>\n",
              "    <tr>\n",
              "      <td>74</td>\n",
              "      <td>appeal_dismissed</td>\n",
              "      <td>True</td>\n",
              "      <td>True</td>\n",
              "      <td>False</td>\n",
              "      <td>False</td>\n",
              "      <td>False</td>\n",
              "      <td>size|neighbour_effect</td>\n",
              "    </tr>\n",
              "    <tr>\n",
              "      <td>75</td>\n",
              "      <td>appeal_dismissed</td>\n",
              "      <td>True</td>\n",
              "      <td>True</td>\n",
              "      <td>True</td>\n",
              "      <td>False</td>\n",
              "      <td>False</td>\n",
              "      <td>size|neighbour_effect|living_conditions</td>\n",
              "    </tr>\n",
              "    <tr>\n",
              "      <td>77</td>\n",
              "      <td>appeal_dismissed</td>\n",
              "      <td>True</td>\n",
              "      <td>True</td>\n",
              "      <td>True</td>\n",
              "      <td>True</td>\n",
              "      <td>False</td>\n",
              "      <td>size|neighbour_effect|living_conditions|parking</td>\n",
              "    </tr>\n",
              "    <tr>\n",
              "      <td>78</td>\n",
              "      <td>appeal_dismissed</td>\n",
              "      <td>True</td>\n",
              "      <td>True</td>\n",
              "      <td>False</td>\n",
              "      <td>False</td>\n",
              "      <td>False</td>\n",
              "      <td>size|neighbour_effect</td>\n",
              "    </tr>\n",
              "    <tr>\n",
              "      <td>79</td>\n",
              "      <td>appeal_dismissed</td>\n",
              "      <td>True</td>\n",
              "      <td>True</td>\n",
              "      <td>True</td>\n",
              "      <td>False</td>\n",
              "      <td>False</td>\n",
              "      <td>size|neighbour_effect|living_conditions</td>\n",
              "    </tr>\n",
              "    <tr>\n",
              "      <td>81</td>\n",
              "      <td>appeal_dismissed</td>\n",
              "      <td>True</td>\n",
              "      <td>True</td>\n",
              "      <td>False</td>\n",
              "      <td>False</td>\n",
              "      <td>False</td>\n",
              "      <td>size|neighbour_effect</td>\n",
              "    </tr>\n",
              "    <tr>\n",
              "      <td>82</td>\n",
              "      <td>appeal_dismissed</td>\n",
              "      <td>True</td>\n",
              "      <td>True</td>\n",
              "      <td>False</td>\n",
              "      <td>False</td>\n",
              "      <td>False</td>\n",
              "      <td>size|neighbour_effect</td>\n",
              "    </tr>\n",
              "    <tr>\n",
              "      <td>84</td>\n",
              "      <td>appeal_dismissed</td>\n",
              "      <td>True</td>\n",
              "      <td>True</td>\n",
              "      <td>False</td>\n",
              "      <td>False</td>\n",
              "      <td>False</td>\n",
              "      <td>size|neighbour_effect</td>\n",
              "    </tr>\n",
              "    <tr>\n",
              "      <td>85</td>\n",
              "      <td>appeal_allowed</td>\n",
              "      <td>NaN</td>\n",
              "      <td>NaN</td>\n",
              "      <td>NaN</td>\n",
              "      <td>NaN</td>\n",
              "      <td>NaN</td>\n",
              "      <td></td>\n",
              "    </tr>\n",
              "    <tr>\n",
              "      <td>86</td>\n",
              "      <td>appeal_allowed</td>\n",
              "      <td>NaN</td>\n",
              "      <td>NaN</td>\n",
              "      <td>NaN</td>\n",
              "      <td>NaN</td>\n",
              "      <td>NaN</td>\n",
              "      <td></td>\n",
              "    </tr>\n",
              "    <tr>\n",
              "      <td>87</td>\n",
              "      <td>appeal_allowed</td>\n",
              "      <td>NaN</td>\n",
              "      <td>NaN</td>\n",
              "      <td>NaN</td>\n",
              "      <td>NaN</td>\n",
              "      <td>NaN</td>\n",
              "      <td></td>\n",
              "    </tr>\n",
              "    <tr>\n",
              "      <td>88</td>\n",
              "      <td>appeal_dismissed</td>\n",
              "      <td>True</td>\n",
              "      <td>False</td>\n",
              "      <td>False</td>\n",
              "      <td>True</td>\n",
              "      <td>False</td>\n",
              "      <td>size|parking</td>\n",
              "    </tr>\n",
              "    <tr>\n",
              "      <td>89</td>\n",
              "      <td>appeal_dismissed</td>\n",
              "      <td>True</td>\n",
              "      <td>True</td>\n",
              "      <td>False</td>\n",
              "      <td>True</td>\n",
              "      <td>False</td>\n",
              "      <td>size|neighbour_effect|parking</td>\n",
              "    </tr>\n",
              "    <tr>\n",
              "      <td>90</td>\n",
              "      <td>appeal_dismissed</td>\n",
              "      <td>False</td>\n",
              "      <td>False</td>\n",
              "      <td>False</td>\n",
              "      <td>True</td>\n",
              "      <td>False</td>\n",
              "      <td>parking</td>\n",
              "    </tr>\n",
              "    <tr>\n",
              "      <td>94</td>\n",
              "      <td>appeal_allowed</td>\n",
              "      <td>NaN</td>\n",
              "      <td>NaN</td>\n",
              "      <td>NaN</td>\n",
              "      <td>NaN</td>\n",
              "      <td>NaN</td>\n",
              "      <td></td>\n",
              "    </tr>\n",
              "    <tr>\n",
              "      <td>95</td>\n",
              "      <td>appeal_dismissed</td>\n",
              "      <td>False</td>\n",
              "      <td>True</td>\n",
              "      <td>False</td>\n",
              "      <td>False</td>\n",
              "      <td>False</td>\n",
              "      <td>neighbour_effect</td>\n",
              "    </tr>\n",
              "    <tr>\n",
              "      <td>97</td>\n",
              "      <td>appeal_allowed</td>\n",
              "      <td>NaN</td>\n",
              "      <td>NaN</td>\n",
              "      <td>NaN</td>\n",
              "      <td>NaN</td>\n",
              "      <td>NaN</td>\n",
              "      <td></td>\n",
              "    </tr>\n",
              "    <tr>\n",
              "      <td>100</td>\n",
              "      <td>appeal_allowed</td>\n",
              "      <td>NaN</td>\n",
              "      <td>NaN</td>\n",
              "      <td>NaN</td>\n",
              "      <td>NaN</td>\n",
              "      <td>NaN</td>\n",
              "      <td></td>\n",
              "    </tr>\n",
              "    <tr>\n",
              "      <td>107</td>\n",
              "      <td>appeal_dismissed</td>\n",
              "      <td>True</td>\n",
              "      <td>True</td>\n",
              "      <td>False</td>\n",
              "      <td>False</td>\n",
              "      <td>False</td>\n",
              "      <td>size|neighbour_effect</td>\n",
              "    </tr>\n",
              "    <tr>\n",
              "      <td>111</td>\n",
              "      <td>appeal_dismissed</td>\n",
              "      <td>True</td>\n",
              "      <td>False</td>\n",
              "      <td>False</td>\n",
              "      <td>False</td>\n",
              "      <td>False</td>\n",
              "      <td>size</td>\n",
              "    </tr>\n",
              "    <tr>\n",
              "      <td>112</td>\n",
              "      <td>appeal_dismissed</td>\n",
              "      <td>True</td>\n",
              "      <td>True</td>\n",
              "      <td>True</td>\n",
              "      <td>False</td>\n",
              "      <td>False</td>\n",
              "      <td>size|neighbour_effect|living_conditions</td>\n",
              "    </tr>\n",
              "  </tbody>\n",
              "</table>\n",
              "</div>"
            ],
            "text/plain": [
              "               status rejected_size rejected_neighbour_effect  \\\n",
              "1    appeal_dismissed         False                     False   \n",
              "4      appeal_allowed           NaN                       NaN   \n",
              "6    appeal_dismissed         False                      True   \n",
              "8    appeal_dismissed         False                     False   \n",
              "9      appeal_allowed           NaN                       NaN   \n",
              "10   appeal_dismissed         False                     False   \n",
              "13   appeal_dismissed          True                      True   \n",
              "15   appeal_dismissed          True                     False   \n",
              "17     appeal_allowed           NaN                       NaN   \n",
              "19     appeal_allowed           NaN                       NaN   \n",
              "30   appeal_dismissed          True                     False   \n",
              "32   appeal_dismissed         False                     False   \n",
              "33   appeal_dismissed          True                      True   \n",
              "34   appeal_dismissed         False                      True   \n",
              "36     appeal_allowed           NaN                       NaN   \n",
              "38     appeal_allowed           NaN                       NaN   \n",
              "39   appeal_dismissed          True                     False   \n",
              "41   appeal_dismissed          True                      True   \n",
              "46     appeal_allowed           NaN                       NaN   \n",
              "47     appeal_allowed           NaN                       NaN   \n",
              "48   appeal_dismissed         False                     False   \n",
              "52   appeal_dismissed          True                     False   \n",
              "57   appeal_dismissed          True                     False   \n",
              "61     appeal_allowed           NaN                       NaN   \n",
              "62   appeal_dismissed          True                     False   \n",
              "63   appeal_dismissed          True                     False   \n",
              "67     appeal_allowed           NaN                       NaN   \n",
              "70   appeal_dismissed          True                     False   \n",
              "71   appeal_dismissed         False                     False   \n",
              "72   appeal_dismissed          True                     False   \n",
              "73   appeal_dismissed          True                     False   \n",
              "74   appeal_dismissed          True                      True   \n",
              "75   appeal_dismissed          True                      True   \n",
              "77   appeal_dismissed          True                      True   \n",
              "78   appeal_dismissed          True                      True   \n",
              "79   appeal_dismissed          True                      True   \n",
              "81   appeal_dismissed          True                      True   \n",
              "82   appeal_dismissed          True                      True   \n",
              "84   appeal_dismissed          True                      True   \n",
              "85     appeal_allowed           NaN                       NaN   \n",
              "86     appeal_allowed           NaN                       NaN   \n",
              "87     appeal_allowed           NaN                       NaN   \n",
              "88   appeal_dismissed          True                     False   \n",
              "89   appeal_dismissed          True                      True   \n",
              "90   appeal_dismissed         False                     False   \n",
              "94     appeal_allowed           NaN                       NaN   \n",
              "95   appeal_dismissed         False                      True   \n",
              "97     appeal_allowed           NaN                       NaN   \n",
              "100    appeal_allowed           NaN                       NaN   \n",
              "107  appeal_dismissed          True                      True   \n",
              "111  appeal_dismissed          True                     False   \n",
              "112  appeal_dismissed          True                      True   \n",
              "\n",
              "    rejected_living_conditions rejected_parking rejected_local_character  \\\n",
              "1                        False            False                     True   \n",
              "4                          NaN              NaN                      NaN   \n",
              "6                        False            False                    False   \n",
              "8                         True            False                    False   \n",
              "9                          NaN              NaN                      NaN   \n",
              "10                        True            False                    False   \n",
              "13                       False             True                    False   \n",
              "15                       False            False                    False   \n",
              "17                         NaN              NaN                      NaN   \n",
              "19                         NaN              NaN                      NaN   \n",
              "30                       False            False                    False   \n",
              "32                       False             True                    False   \n",
              "33                       False            False                    False   \n",
              "34                       False            False                     True   \n",
              "36                         NaN              NaN                      NaN   \n",
              "38                         NaN              NaN                      NaN   \n",
              "39                       False            False                    False   \n",
              "41                       False             True                    False   \n",
              "46                         NaN              NaN                      NaN   \n",
              "47                         NaN              NaN                      NaN   \n",
              "48                       False             True                     True   \n",
              "52                       False            False                    False   \n",
              "57                        True            False                    False   \n",
              "61                         NaN              NaN                      NaN   \n",
              "62                       False            False                    False   \n",
              "63                       False            False                    False   \n",
              "67                         NaN              NaN                      NaN   \n",
              "70                       False            False                    False   \n",
              "71                       False            False                     True   \n",
              "72                        True            False                    False   \n",
              "73                       False            False                    False   \n",
              "74                       False            False                    False   \n",
              "75                        True            False                    False   \n",
              "77                        True             True                    False   \n",
              "78                       False            False                    False   \n",
              "79                        True            False                    False   \n",
              "81                       False            False                    False   \n",
              "82                       False            False                    False   \n",
              "84                       False            False                    False   \n",
              "85                         NaN              NaN                      NaN   \n",
              "86                         NaN              NaN                      NaN   \n",
              "87                         NaN              NaN                      NaN   \n",
              "88                       False             True                    False   \n",
              "89                       False             True                    False   \n",
              "90                       False             True                    False   \n",
              "94                         NaN              NaN                      NaN   \n",
              "95                       False            False                    False   \n",
              "97                         NaN              NaN                      NaN   \n",
              "100                        NaN              NaN                      NaN   \n",
              "107                      False            False                    False   \n",
              "111                      False            False                    False   \n",
              "112                       True            False                    False   \n",
              "\n",
              "                                 reason_of_rejection  \n",
              "1                                    local_character  \n",
              "4                                                     \n",
              "6                                   neighbour_effect  \n",
              "8                                  living_conditions  \n",
              "9                                                     \n",
              "10                                 living_conditions  \n",
              "13                     size|neighbour_effect|parking  \n",
              "15                                              size  \n",
              "17                                                    \n",
              "19                                                    \n",
              "30                                              size  \n",
              "32                                           parking  \n",
              "33                             size|neighbour_effect  \n",
              "34                  neighbour_effect|local_character  \n",
              "36                                                    \n",
              "38                                                    \n",
              "39                                              size  \n",
              "41                     size|neighbour_effect|parking  \n",
              "46                                                    \n",
              "47                                                    \n",
              "48                           parking|local_character  \n",
              "52                                              size  \n",
              "57                            size|living_conditions  \n",
              "61                                                    \n",
              "62                                              size  \n",
              "63                                              size  \n",
              "67                                                    \n",
              "70                                              size  \n",
              "71                                   local_character  \n",
              "72                            size|living_conditions  \n",
              "73                                              size  \n",
              "74                             size|neighbour_effect  \n",
              "75           size|neighbour_effect|living_conditions  \n",
              "77   size|neighbour_effect|living_conditions|parking  \n",
              "78                             size|neighbour_effect  \n",
              "79           size|neighbour_effect|living_conditions  \n",
              "81                             size|neighbour_effect  \n",
              "82                             size|neighbour_effect  \n",
              "84                             size|neighbour_effect  \n",
              "85                                                    \n",
              "86                                                    \n",
              "87                                                    \n",
              "88                                      size|parking  \n",
              "89                     size|neighbour_effect|parking  \n",
              "90                                           parking  \n",
              "94                                                    \n",
              "95                                  neighbour_effect  \n",
              "97                                                    \n",
              "100                                                   \n",
              "107                            size|neighbour_effect  \n",
              "111                                             size  \n",
              "112          size|neighbour_effect|living_conditions  "
            ]
          },
          "metadata": {
            "tags": []
          },
          "execution_count": 103
        }
      ]
    },
    {
      "cell_type": "code",
      "metadata": {
        "scrolled": true,
        "id": "fqV7EZ1cs18D",
        "colab_type": "code",
        "colab": {}
      },
      "source": [
        "rej_columns=[ i for i in df.columns if 'reject' in i and 'if' not in i ]\n",
        "df['reason_of_rejection']=df[rej_columns].apply(lambda row: '|'.join(['_'.join(str(i).split('_')[1:]) for i,v in row.items() if v==True] ), axis=1)"
      ],
      "execution_count": 0,
      "outputs": []
    },
    {
      "cell_type": "code",
      "metadata": {
        "id": "iTbUOo6Qs18F",
        "colab_type": "code",
        "outputId": "bac1ec5f-0ff1-4f1a-f337-fbb16c77b53a",
        "colab": {}
      },
      "source": [
        "rej_columns"
      ],
      "execution_count": 0,
      "outputs": [
        {
          "output_type": "execute_result",
          "data": {
            "text/plain": [
              "['rejected_size',\n",
              " 'rejected_neighbour_effect',\n",
              " 'rejected_living_conditions',\n",
              " 'rejected_parking',\n",
              " 'rejected_local_character',\n",
              " 'reason_of_rejection']"
            ]
          },
          "metadata": {
            "tags": []
          },
          "execution_count": 61
        }
      ]
    },
    {
      "cell_type": "code",
      "metadata": {
        "id": "hR0CQJR_s18I",
        "colab_type": "code",
        "colab": {}
      },
      "source": [
        "df['if_reject']=df['reason_of_rejection']!=''"
      ],
      "execution_count": 0,
      "outputs": []
    },
    {
      "cell_type": "code",
      "metadata": {
        "id": "eyf_rHHZs18L",
        "colab_type": "code",
        "outputId": "05e31893-fe15-4673-9895-65e583d6136c",
        "colab": {}
      },
      "source": [
        "df['if_reject'].value_counts()"
      ],
      "execution_count": 0,
      "outputs": [
        {
          "output_type": "execute_result",
          "data": {
            "text/plain": [
              "True     61\n",
              "False    52\n",
              "Name: if_reject, dtype: int64"
            ]
          },
          "metadata": {
            "tags": []
          },
          "execution_count": 30
        }
      ]
    },
    {
      "cell_type": "code",
      "metadata": {
        "id": "yVIi4RhDs18O",
        "colab_type": "code",
        "outputId": "f7fb2a8f-4fa1-4e5f-b46a-db0f6da496ab",
        "colab": {}
      },
      "source": [
        "plt.figure(figsize=(10,6))\n",
        "df_corner=(df.groupby(['on_corner','if_reject']).size()/df.groupby(['on_corner']).size()).reset_index()\n",
        "sns.barplot(data=df_corner, x='on_corner' , hue='if_reject', y=0)\n",
        "plt.title('Rejection rate of  \"on_corner\" variable')"
      ],
      "execution_count": 0,
      "outputs": [
        {
          "output_type": "execute_result",
          "data": {
            "text/plain": [
              "Text(0.5, 1.0, 'Rejection rate of  \"on_corner\" variable')"
            ]
          },
          "metadata": {
            "tags": []
          },
          "execution_count": 88
        },
        {
          "output_type": "display_data",
          "data": {
            "image/png": "[encoded data removed]",
            "text/plain": [
              "<Figure size 720x432 with 1 Axes>"
            ]
          },
          "metadata": {
            "tags": [],
            "needs_background": "light"
          }
        }
      ]
    },
    {
      "cell_type": "code",
      "metadata": {
        "id": "ep76moiMs18R",
        "colab_type": "code",
        "outputId": "7a367c3f-9719-48e7-ad84-d120faafa691",
        "colab": {}
      },
      "source": [
        "plt.figure(figsize=(10,7))\n",
        "df['if_rejected']=df['if_reject'].map({True:'rejected', False:'approved'})\n",
        "sns.violinplot(data=df, y='max_height', x='if_reject', )\n",
        "plt.title('Max_height distribution by application result')"
      ],
      "execution_count": 0,
      "outputs": [
        {
          "output_type": "execute_result",
          "data": {
            "text/plain": [
              "Text(0.5, 1.0, 'Max_height distribution by application result')"
            ]
          },
          "metadata": {
            "tags": []
          },
          "execution_count": 145
        },
        {
          "output_type": "display_data",
          "data": {
            "image/png": "[encoded data removed]",
            "text/plain": [
              "<Figure size 720x504 with 1 Axes>"
            ]
          },
          "metadata": {
            "tags": [],
            "needs_background": "light"
          }
        }
      ]
    },
    {
      "cell_type": "code",
      "metadata": {
        "id": "Z1eVYSLvs18U",
        "colab_type": "code",
        "outputId": "06896473-3f73-4c8e-d9f3-022224f7ecab",
        "colab": {}
      },
      "source": [
        "plt.figure(figsize=(10,6))\n",
        "sns.kdeplot(df[df['if_reject']==0]['units'], label='approved')\n",
        "sns.kdeplot(df[df['if_reject']==1]['units'], color='orange', label='rejected')\n",
        "plt.title('Distribution of proposed units by application result ')"
      ],
      "execution_count": 0,
      "outputs": [
        {
          "output_type": "execute_result",
          "data": {
            "text/plain": [
              "Text(0.5, 1.0, 'Distribution of proposed units by application result ')"
            ]
          },
          "metadata": {
            "tags": []
          },
          "execution_count": 148
        },
        {
          "output_type": "display_data",
          "data": {
            "image/png": "[encoded data removed]",
            "text/plain": [
              "<Figure size 720x432 with 1 Axes>"
            ]
          },
          "metadata": {
            "tags": [],
            "needs_background": "light"
          }
        }
      ]
    },
    {
      "cell_type": "code",
      "metadata": {
        "id": "RWVz7u9Is18X",
        "colab_type": "code",
        "outputId": "0087beb8-6a45-46fe-8606-f8b566042f77",
        "colab": {}
      },
      "source": [
        "(df['if_reject']*1).to_frame().join(df['max_height']).corr()"
      ],
      "execution_count": 0,
      "outputs": [
        {
          "output_type": "execute_result",
          "data": {
            "text/html": [
              "<div>\n",
              "<style scoped>\n",
              "    .dataframe tbody tr th:only-of-type {\n",
              "        vertical-align: middle;\n",
              "    }\n",
              "\n",
              "    .dataframe tbody tr th {\n",
              "        vertical-align: top;\n",
              "    }\n",
              "\n",
              "    .dataframe thead th {\n",
              "        text-align: right;\n",
              "    }\n",
              "</style>\n",
              "<table border=\"1\" class=\"dataframe\">\n",
              "  <thead>\n",
              "    <tr style=\"text-align: right;\">\n",
              "      <th></th>\n",
              "      <th>if_reject</th>\n",
              "      <th>max_height</th>\n",
              "    </tr>\n",
              "  </thead>\n",
              "  <tbody>\n",
              "    <tr>\n",
              "      <td>if_reject</td>\n",
              "      <td>1.000000</td>\n",
              "      <td>-0.228019</td>\n",
              "    </tr>\n",
              "    <tr>\n",
              "      <td>max_height</td>\n",
              "      <td>-0.228019</td>\n",
              "      <td>1.000000</td>\n",
              "    </tr>\n",
              "  </tbody>\n",
              "</table>\n",
              "</div>"
            ],
            "text/plain": [
              "            if_reject  max_height\n",
              "if_reject    1.000000   -0.228019\n",
              "max_height  -0.228019    1.000000"
            ]
          },
          "metadata": {
            "tags": []
          },
          "execution_count": 129
        }
      ]
    },
    {
      "cell_type": "code",
      "metadata": {
        "id": "IBEF4FUps18a",
        "colab_type": "code",
        "outputId": "5f6aeb14-a65c-4469-926e-b7797ed3bf1d",
        "colab": {}
      },
      "source": [
        "(df['if_reject']*1).to_frame().join(df['units']).corr()"
      ],
      "execution_count": 0,
      "outputs": [
        {
          "output_type": "execute_result",
          "data": {
            "text/html": [
              "<div>\n",
              "<style scoped>\n",
              "    .dataframe tbody tr th:only-of-type {\n",
              "        vertical-align: middle;\n",
              "    }\n",
              "\n",
              "    .dataframe tbody tr th {\n",
              "        vertical-align: top;\n",
              "    }\n",
              "\n",
              "    .dataframe thead th {\n",
              "        text-align: right;\n",
              "    }\n",
              "</style>\n",
              "<table border=\"1\" class=\"dataframe\">\n",
              "  <thead>\n",
              "    <tr style=\"text-align: right;\">\n",
              "      <th></th>\n",
              "      <th>if_reject</th>\n",
              "      <th>units</th>\n",
              "    </tr>\n",
              "  </thead>\n",
              "  <tbody>\n",
              "    <tr>\n",
              "      <td>if_reject</td>\n",
              "      <td>1.000000</td>\n",
              "      <td>-0.194264</td>\n",
              "    </tr>\n",
              "    <tr>\n",
              "      <td>units</td>\n",
              "      <td>-0.194264</td>\n",
              "      <td>1.000000</td>\n",
              "    </tr>\n",
              "  </tbody>\n",
              "</table>\n",
              "</div>"
            ],
            "text/plain": [
              "           if_reject     units\n",
              "if_reject   1.000000 -0.194264\n",
              "units      -0.194264  1.000000"
            ]
          },
          "metadata": {
            "tags": []
          },
          "execution_count": 130
        }
      ]
    },
    {
      "cell_type": "code",
      "metadata": {
        "id": "Epy43j99s18d",
        "colab_type": "code",
        "outputId": "dec3fdc1-45f2-45a2-9b68-0375093c05f3",
        "colab": {}
      },
      "source": [
        "sns.heatmap([df['if_reject']*1,df['max_height']].corr() )"
      ],
      "execution_count": 0,
      "outputs": [
        {
          "output_type": "error",
          "ename": "AttributeError",
          "evalue": "'list' object has no attribute 'corr'",
          "traceback": [
            "\u001b[1;31m---------------------------------------------------------------------------\u001b[0m",
            "\u001b[1;31mAttributeError\u001b[0m                            Traceback (most recent call last)",
            "\u001b[1;32m<ipython-input-125-24be1511e809>\u001b[0m in \u001b[0;36m<module>\u001b[1;34m\u001b[0m\n\u001b[1;32m----> 1\u001b[1;33m \u001b[0msns\u001b[0m\u001b[1;33m.\u001b[0m\u001b[0mheatmap\u001b[0m\u001b[1;33m(\u001b[0m\u001b[1;33m[\u001b[0m\u001b[0mdf\u001b[0m\u001b[1;33m[\u001b[0m\u001b[1;34m'if_reject'\u001b[0m\u001b[1;33m]\u001b[0m\u001b[1;33m*\u001b[0m\u001b[1;36m1\u001b[0m\u001b[1;33m,\u001b[0m\u001b[0mdf\u001b[0m\u001b[1;33m[\u001b[0m\u001b[1;34m'max_height'\u001b[0m\u001b[1;33m]\u001b[0m\u001b[1;33m]\u001b[0m\u001b[1;33m.\u001b[0m\u001b[0mcorr\u001b[0m\u001b[1;33m(\u001b[0m\u001b[1;33m)\u001b[0m \u001b[1;33m)\u001b[0m\u001b[1;33m\u001b[0m\u001b[1;33m\u001b[0m\u001b[0m\n\u001b[0m",
            "\u001b[1;31mAttributeError\u001b[0m: 'list' object has no attribute 'corr'"
          ]
        }
      ]
    },
    {
      "cell_type": "code",
      "metadata": {
        "id": "piBbR4eVs18g",
        "colab_type": "code",
        "outputId": "c396615a-065b-41a4-a0f2-4c4d67ff4674",
        "colab": {}
      },
      "source": [
        "plt.hist(df['units'])"
      ],
      "execution_count": 0,
      "outputs": [
        {
          "output_type": "execute_result",
          "data": {
            "text/plain": [
              "(array([72., 31.,  2.,  2.,  1.,  1.,  1.,  1.,  1.,  1.]),\n",
              " array([ 6. ,  8.4, 10.8, 13.2, 15.6, 18. , 20.4, 22.8, 25.2, 27.6, 30. ]),\n",
              " <a list of 10 Patch objects>)"
            ]
          },
          "metadata": {
            "tags": []
          },
          "execution_count": 122
        },
        {
          "output_type": "display_data",
          "data": {
            "image/png": "[encoded data removed]",
            "text/plain": [
              "<Figure size 432x288 with 1 Axes>"
            ]
          },
          "metadata": {
            "tags": [],
            "needs_background": "light"
          }
        }
      ]
    },
    {
      "cell_type": "code",
      "metadata": {
        "id": "vhVuzQNvs18l",
        "colab_type": "code",
        "colab": {}
      },
      "source": [
        "df['appealed']=df['status'].apply(lambda x: 'appeal' in x)"
      ],
      "execution_count": 0,
      "outputs": []
    },
    {
      "cell_type": "code",
      "metadata": {
        "id": "JYdPqxPRs18p",
        "colab_type": "code",
        "outputId": "525c61a6-adc2-45b3-c9bd-d5b51309b0a7",
        "colab": {}
      },
      "source": [
        "df[df['status']!='approved']['appealed'].value_counts()"
      ],
      "execution_count": 0,
      "outputs": [
        {
          "output_type": "execute_result",
          "data": {
            "text/plain": [
              "True     52\n",
              "False    25\n",
              "Name: appealed, dtype: int64"
            ]
          },
          "metadata": {
            "tags": []
          },
          "execution_count": 97
        }
      ]
    },
    {
      "cell_type": "code",
      "metadata": {
        "id": "XRQW3ejZs18t",
        "colab_type": "code",
        "outputId": "7da45230-3301-4026-a941-b3bb3e48894a",
        "colab": {}
      },
      "source": [
        "df[df['status']!='approved'].groupby(['reason_of_rejection','appealed']).size()"
      ],
      "execution_count": 0,
      "outputs": [
        {
          "output_type": "execute_result",
          "data": {
            "text/plain": [
              "reason_of_rejection                                      appealed\n",
              "                                                         True        16\n",
              "living_conditions                                        True         2\n",
              "living_conditions|local_character                        False        1\n",
              "local_character                                          True         2\n",
              "neighbour_effect                                         False        1\n",
              "                                                         True         2\n",
              "neighbour_effect|local_character                         True         1\n",
              "parking                                                  True         2\n",
              "parking|local_character                                  False        1\n",
              "                                                         True         1\n",
              "size                                                     False        4\n",
              "                                                         True         9\n",
              "size|living_conditions                                   False        3\n",
              "                                                         True         2\n",
              "size|neighbour_effect                                    False        5\n",
              "                                                         True         7\n",
              "size|neighbour_effect|living_conditions                  False        3\n",
              "                                                         True         3\n",
              "size|neighbour_effect|living_conditions|local_character  False        1\n",
              "size|neighbour_effect|living_conditions|parking          False        4\n",
              "                                                         True         1\n",
              "size|neighbour_effect|parking                            True         3\n",
              "size|neighbour_effect|parking|local_character            False        2\n",
              "size|parking                                             True         1\n",
              "dtype: int64"
            ]
          },
          "metadata": {
            "tags": []
          },
          "execution_count": 100
        }
      ]
    },
    {
      "cell_type": "code",
      "metadata": {
        "id": "ZcSs1u2Ks18x",
        "colab_type": "code",
        "outputId": "c08d8344-40b9-4252-9dfc-01e95c19d828",
        "colab": {}
      },
      "source": [
        "df['reason_of_rejection']"
      ],
      "execution_count": 0,
      "outputs": [
        {
          "output_type": "execute_result",
          "data": {
            "text/plain": [
              "0                                                     \n",
              "1                                      local_character\n",
              "2                                                     \n",
              "3                                                 size\n",
              "4                                                     \n",
              "                            ...                       \n",
              "108                                                   \n",
              "109                              size|neighbour_effect\n",
              "110    size|neighbour_effect|living_conditions|parking\n",
              "111                                               size\n",
              "112            size|neighbour_effect|living_conditions\n",
              "Name: reason_of_rejection, Length: 113, dtype: object"
            ]
          },
          "metadata": {
            "tags": []
          },
          "execution_count": 101
        }
      ]
    },
    {
      "cell_type": "code",
      "metadata": {
        "id": "NuqpGbkjs18z",
        "colab_type": "code",
        "colab": {}
      },
      "source": [
        ""
      ],
      "execution_count": 0,
      "outputs": []
    },
    {
      "cell_type": "code",
      "metadata": {
        "id": "w-zxlyyts182",
        "colab_type": "code",
        "outputId": "095a1f06-1455-4b4f-edfa-b906cc64f8d7",
        "colab": {}
      },
      "source": [
        "df_corner"
      ],
      "execution_count": 0,
      "outputs": [
        {
          "output_type": "execute_result",
          "data": {
            "text/html": [
              "<div>\n",
              "<style scoped>\n",
              "    .dataframe tbody tr th:only-of-type {\n",
              "        vertical-align: middle;\n",
              "    }\n",
              "\n",
              "    .dataframe tbody tr th {\n",
              "        vertical-align: top;\n",
              "    }\n",
              "\n",
              "    .dataframe thead th {\n",
              "        text-align: right;\n",
              "    }\n",
              "</style>\n",
              "<table border=\"1\" class=\"dataframe\">\n",
              "  <thead>\n",
              "    <tr style=\"text-align: right;\">\n",
              "      <th></th>\n",
              "      <th>on_corner</th>\n",
              "      <th>if_reject</th>\n",
              "      <th>0</th>\n",
              "    </tr>\n",
              "  </thead>\n",
              "  <tbody>\n",
              "    <tr>\n",
              "      <td>0</td>\n",
              "      <td>False</td>\n",
              "      <td>False</td>\n",
              "      <td>0.492754</td>\n",
              "    </tr>\n",
              "    <tr>\n",
              "      <td>1</td>\n",
              "      <td>False</td>\n",
              "      <td>True</td>\n",
              "      <td>0.507246</td>\n",
              "    </tr>\n",
              "    <tr>\n",
              "      <td>2</td>\n",
              "      <td>True</td>\n",
              "      <td>False</td>\n",
              "      <td>0.384615</td>\n",
              "    </tr>\n",
              "    <tr>\n",
              "      <td>3</td>\n",
              "      <td>True</td>\n",
              "      <td>True</td>\n",
              "      <td>0.615385</td>\n",
              "    </tr>\n",
              "  </tbody>\n",
              "</table>\n",
              "</div>"
            ],
            "text/plain": [
              "   on_corner  if_reject         0\n",
              "0      False      False  0.492754\n",
              "1      False       True  0.507246\n",
              "2       True      False  0.384615\n",
              "3       True       True  0.615385"
            ]
          },
          "metadata": {
            "tags": []
          },
          "execution_count": 81
        }
      ]
    },
    {
      "cell_type": "code",
      "metadata": {
        "scrolled": false,
        "id": "t_3HJ-mys185",
        "colab_type": "code",
        "outputId": "7f41226b-88fa-47b7-959c-68afd4e18f85",
        "colab": {}
      },
      "source": [
        "plt.figure(figsize=(15,8))\n",
        "sns.countplot(df[df['if_reject']==True]['reason_of_rejection'].apply(lambda x: 'size' if 'size'in x else ('neighbour_effect' if 'neighbour' in x else x )))\n",
        "plt.xticks(rotation='vertical')\n",
        "plt.yticks(np.arange(0,55,5))"
      ],
      "execution_count": 0,
      "outputs": [
        {
          "output_type": "execute_result",
          "data": {
            "text/plain": [
              "([<matplotlib.axis.YTick at 0x1d7c1089a88>,\n",
              "  <matplotlib.axis.YTick at 0x1d7c1089188>,\n",
              "  <matplotlib.axis.YTick at 0x1d7c1086e88>,\n",
              "  <matplotlib.axis.YTick at 0x1d7c10c8e88>,\n",
              "  <matplotlib.axis.YTick at 0x1d7c10cf748>,\n",
              "  <matplotlib.axis.YTick at 0x1d7c10c8788>,\n",
              "  <matplotlib.axis.YTick at 0x1d7c10c4588>,\n",
              "  <matplotlib.axis.YTick at 0x1d7c10d2a48>,\n",
              "  <matplotlib.axis.YTick at 0x1d7c10d5448>,\n",
              "  <matplotlib.axis.YTick at 0x1d7c10d5d48>,\n",
              "  <matplotlib.axis.YTick at 0x1d7c10d8888>],\n",
              " <a list of 11 Text yticklabel objects>)"
            ]
          },
          "metadata": {
            "tags": []
          },
          "execution_count": 68
        },
        {
          "output_type": "display_data",
          "data": {
            "image/png": "[encoded data removed]",
            "text/plain": [
              "<Figure size 1080x576 with 1 Axes>"
            ]
          },
          "metadata": {
            "tags": [],
            "needs_background": "light"
          }
        }
      ]
    },
    {
      "cell_type": "code",
      "metadata": {
        "id": "K5lOeAMss188",
        "colab_type": "code",
        "outputId": "d2e521e1-3810-42ce-ee19-a4f8fd1cb4ba",
        "colab": {}
      },
      "source": [
        "48/61"
      ],
      "execution_count": 0,
      "outputs": [
        {
          "output_type": "execute_result",
          "data": {
            "text/plain": [
              "0.7868852459016393"
            ]
          },
          "metadata": {
            "tags": []
          },
          "execution_count": 119
        }
      ]
    },
    {
      "cell_type": "code",
      "metadata": {
        "id": "WVEClRxFs18_",
        "colab_type": "code",
        "outputId": "b7744dc5-91d1-4d1c-cc4b-abbe6f784d1a",
        "colab": {}
      },
      "source": [
        "df['reason_of_rejection'].value_counts()"
      ],
      "execution_count": 0,
      "outputs": [
        {
          "output_type": "execute_result",
          "data": {
            "text/plain": [
              "                                                                                               52\n",
              "rejected_size                                                                                  13\n",
              "rejected_size|rejected_neighbour_effect                                                        12\n",
              "rejected_size|rejected_neighbour_effect|rejected_living_conditions                              6\n",
              "rejected_size|rejected_neighbour_effect|rejected_living_conditions|rejected_parking             5\n",
              "rejected_size|rejected_living_conditions                                                        5\n",
              "rejected_neighbour_effect                                                                       3\n",
              "rejected_size|rejected_neighbour_effect|rejected_parking                                        3\n",
              "rejected_size|rejected_neighbour_effect|rejected_parking|rejected_local_character               2\n",
              "rejected_local_character                                                                        2\n",
              "rejected_living_conditions                                                                      2\n",
              "rejected_parking|rejected_local_character                                                       2\n",
              "rejected_parking                                                                                2\n",
              "rejected_size|rejected_neighbour_effect|rejected_living_conditions|rejected_local_character     1\n",
              "rejected_size|rejected_parking                                                                  1\n",
              "rejected_living_conditions|rejected_local_character                                             1\n",
              "rejected_neighbour_effect|rejected_local_character                                              1\n",
              "Name: reason_of_rejection, dtype: int64"
            ]
          },
          "metadata": {
            "tags": []
          },
          "execution_count": 26
        }
      ]
    },
    {
      "cell_type": "code",
      "metadata": {
        "scrolled": true,
        "id": "_khjJoXrs19C",
        "colab_type": "code",
        "outputId": "5d953ddc-8825-4faa-bc36-380a3246ca06",
        "colab": {}
      },
      "source": [
        "df['planning_application'].apply(lambda x: x.split('/')[2]).value_counts()"
      ],
      "execution_count": 0,
      "outputs": [
        {
          "output_type": "execute_result",
          "data": {
            "text/plain": [
              "FULL1    83\n",
              "OUT      26\n",
              "DET       4\n",
              "Name: planning_application, dtype: int64"
            ]
          },
          "metadata": {
            "tags": []
          },
          "execution_count": 17
        }
      ]
    },
    {
      "cell_type": "code",
      "metadata": {
        "id": "dAMBC6yts19F",
        "colab_type": "code",
        "outputId": "2ab00046-a3ef-4b4a-d499-e05bb370cbb7",
        "colab": {}
      },
      "source": [
        "df.describe()"
      ],
      "execution_count": 0,
      "outputs": [
        {
          "output_type": "execute_result",
          "data": {
            "text/html": [
              "<div>\n",
              "<style scoped>\n",
              "    .dataframe tbody tr th:only-of-type {\n",
              "        vertical-align: middle;\n",
              "    }\n",
              "\n",
              "    .dataframe tbody tr th {\n",
              "        vertical-align: top;\n",
              "    }\n",
              "\n",
              "    .dataframe thead th {\n",
              "        text-align: right;\n",
              "    }\n",
              "</style>\n",
              "<table border=\"1\" class=\"dataframe\">\n",
              "  <thead>\n",
              "    <tr style=\"text-align: right;\">\n",
              "      <th></th>\n",
              "      <th>fid</th>\n",
              "      <th>max_height</th>\n",
              "      <th>parking_spaces</th>\n",
              "      <th>one_bed_units</th>\n",
              "      <th>two_bed_units</th>\n",
              "      <th>three_bed_units</th>\n",
              "      <th>four_plus_bed_units</th>\n",
              "      <th>has_underground_parking</th>\n",
              "      <th>studio_units</th>\n",
              "      <th>on_highstreet</th>\n",
              "      <th>units</th>\n",
              "    </tr>\n",
              "  </thead>\n",
              "  <tbody>\n",
              "    <tr>\n",
              "      <td>count</td>\n",
              "      <td>113.00000</td>\n",
              "      <td>111.000000</td>\n",
              "      <td>113.000000</td>\n",
              "      <td>108.000000</td>\n",
              "      <td>108.000000</td>\n",
              "      <td>108.000000</td>\n",
              "      <td>108.000000</td>\n",
              "      <td>107.000000</td>\n",
              "      <td>58.000000</td>\n",
              "      <td>15.000000</td>\n",
              "      <td>113.000000</td>\n",
              "    </tr>\n",
              "    <tr>\n",
              "      <td>mean</td>\n",
              "      <td>57.00000</td>\n",
              "      <td>10.228622</td>\n",
              "      <td>7.477876</td>\n",
              "      <td>2.037037</td>\n",
              "      <td>5.453704</td>\n",
              "      <td>0.546296</td>\n",
              "      <td>0.240741</td>\n",
              "      <td>0.130841</td>\n",
              "      <td>0.068966</td>\n",
              "      <td>0.866667</td>\n",
              "      <td>8.557522</td>\n",
              "    </tr>\n",
              "    <tr>\n",
              "      <td>std</td>\n",
              "      <td>32.76431</td>\n",
              "      <td>1.821084</td>\n",
              "      <td>8.281970</td>\n",
              "      <td>2.874073</td>\n",
              "      <td>3.677119</td>\n",
              "      <td>1.423332</td>\n",
              "      <td>1.281576</td>\n",
              "      <td>0.338813</td>\n",
              "      <td>0.368118</td>\n",
              "      <td>0.351866</td>\n",
              "      <td>3.856669</td>\n",
              "    </tr>\n",
              "    <tr>\n",
              "      <td>min</td>\n",
              "      <td>1.00000</td>\n",
              "      <td>6.280000</td>\n",
              "      <td>0.000000</td>\n",
              "      <td>0.000000</td>\n",
              "      <td>0.000000</td>\n",
              "      <td>0.000000</td>\n",
              "      <td>0.000000</td>\n",
              "      <td>0.000000</td>\n",
              "      <td>0.000000</td>\n",
              "      <td>0.000000</td>\n",
              "      <td>6.000000</td>\n",
              "    </tr>\n",
              "    <tr>\n",
              "      <td>25%</td>\n",
              "      <td>29.00000</td>\n",
              "      <td>8.740000</td>\n",
              "      <td>4.000000</td>\n",
              "      <td>0.000000</td>\n",
              "      <td>3.000000</td>\n",
              "      <td>0.000000</td>\n",
              "      <td>0.000000</td>\n",
              "      <td>0.000000</td>\n",
              "      <td>0.000000</td>\n",
              "      <td>1.000000</td>\n",
              "      <td>6.000000</td>\n",
              "    </tr>\n",
              "    <tr>\n",
              "      <td>50%</td>\n",
              "      <td>57.00000</td>\n",
              "      <td>9.850000</td>\n",
              "      <td>7.000000</td>\n",
              "      <td>1.000000</td>\n",
              "      <td>5.500000</td>\n",
              "      <td>0.000000</td>\n",
              "      <td>0.000000</td>\n",
              "      <td>0.000000</td>\n",
              "      <td>0.000000</td>\n",
              "      <td>1.000000</td>\n",
              "      <td>8.000000</td>\n",
              "    </tr>\n",
              "    <tr>\n",
              "      <td>75%</td>\n",
              "      <td>85.00000</td>\n",
              "      <td>11.910000</td>\n",
              "      <td>9.000000</td>\n",
              "      <td>3.000000</td>\n",
              "      <td>7.000000</td>\n",
              "      <td>0.000000</td>\n",
              "      <td>0.000000</td>\n",
              "      <td>0.000000</td>\n",
              "      <td>0.000000</td>\n",
              "      <td>1.000000</td>\n",
              "      <td>9.000000</td>\n",
              "    </tr>\n",
              "    <tr>\n",
              "      <td>max</td>\n",
              "      <td>113.00000</td>\n",
              "      <td>16.000000</td>\n",
              "      <td>78.000000</td>\n",
              "      <td>17.000000</td>\n",
              "      <td>20.000000</td>\n",
              "      <td>8.000000</td>\n",
              "      <td>8.000000</td>\n",
              "      <td>1.000000</td>\n",
              "      <td>2.000000</td>\n",
              "      <td>1.000000</td>\n",
              "      <td>30.000000</td>\n",
              "    </tr>\n",
              "  </tbody>\n",
              "</table>\n",
              "</div>"
            ],
            "text/plain": [
              "             fid  max_height  parking_spaces  one_bed_units  two_bed_units  \\\n",
              "count  113.00000  111.000000      113.000000     108.000000     108.000000   \n",
              "mean    57.00000   10.228622        7.477876       2.037037       5.453704   \n",
              "std     32.76431    1.821084        8.281970       2.874073       3.677119   \n",
              "min      1.00000    6.280000        0.000000       0.000000       0.000000   \n",
              "25%     29.00000    8.740000        4.000000       0.000000       3.000000   \n",
              "50%     57.00000    9.850000        7.000000       1.000000       5.500000   \n",
              "75%     85.00000   11.910000        9.000000       3.000000       7.000000   \n",
              "max    113.00000   16.000000       78.000000      17.000000      20.000000   \n",
              "\n",
              "       three_bed_units  four_plus_bed_units  has_underground_parking  \\\n",
              "count       108.000000           108.000000               107.000000   \n",
              "mean          0.546296             0.240741                 0.130841   \n",
              "std           1.423332             1.281576                 0.338813   \n",
              "min           0.000000             0.000000                 0.000000   \n",
              "25%           0.000000             0.000000                 0.000000   \n",
              "50%           0.000000             0.000000                 0.000000   \n",
              "75%           0.000000             0.000000                 0.000000   \n",
              "max           8.000000             8.000000                 1.000000   \n",
              "\n",
              "       studio_units  on_highstreet       units  \n",
              "count     58.000000      15.000000  113.000000  \n",
              "mean       0.068966       0.866667    8.557522  \n",
              "std        0.368118       0.351866    3.856669  \n",
              "min        0.000000       0.000000    6.000000  \n",
              "25%        0.000000       1.000000    6.000000  \n",
              "50%        0.000000       1.000000    8.000000  \n",
              "75%        0.000000       1.000000    9.000000  \n",
              "max        2.000000       1.000000   30.000000  "
            ]
          },
          "metadata": {
            "tags": []
          },
          "execution_count": 19
        }
      ]
    },
    {
      "cell_type": "code",
      "metadata": {
        "id": "81RMxKaRs19I",
        "colab_type": "code",
        "outputId": "a9529d24-12bc-4eec-f389-a66dbdfee788",
        "colab": {}
      },
      "source": [
        "df.groupby(['rejected_size'])['studio_units'].mean()\n"
      ],
      "execution_count": 0,
      "outputs": [
        {
          "output_type": "execute_result",
          "data": {
            "text/plain": [
              "rejected_size\n",
              "False    0.000000\n",
              "True     0.074074\n",
              "Name: studio_units, dtype: float64"
            ]
          },
          "metadata": {
            "tags": []
          },
          "execution_count": 21
        }
      ]
    },
    {
      "cell_type": "code",
      "metadata": {
        "id": "W-2e3DIKs19L",
        "colab_type": "code",
        "outputId": "709b9ddc-546b-48d7-a278-00ed667f281c",
        "colab": {}
      },
      "source": [
        "for v in rej_columns:\n",
        "    print(df[v].value_counts())"
      ],
      "execution_count": 0,
      "outputs": [
        {
          "output_type": "stream",
          "text": [
            "True     48\n",
            "False    13\n",
            "Name: rejected_size, dtype: int64\n",
            "True     33\n",
            "False    28\n",
            "Name: rejected_neighbour_effect, dtype: int64\n",
            "False    41\n",
            "True     20\n",
            "Name: rejected_living_conditions, dtype: int64\n",
            "False    46\n",
            "True     15\n",
            "Name: rejected_parking, dtype: int64\n",
            "False    52\n",
            "True      9\n",
            "Name: rejected_local_character, dtype: int64\n"
          ],
          "name": "stdout"
        }
      ]
    },
    {
      "cell_type": "code",
      "metadata": {
        "id": "nf0KjlBvs19O",
        "colab_type": "code",
        "outputId": "561b88ea-93f4-455f-d6c7-26757b5e069a",
        "colab": {}
      },
      "source": [
        "sns.boxplot(data=df.fillna(-1), x='rejected_size', y='max_height')"
      ],
      "execution_count": 0,
      "outputs": [
        {
          "output_type": "execute_result",
          "data": {
            "text/plain": [
              "<matplotlib.axes._subplots.AxesSubplot at 0x1d7c340a148>"
            ]
          },
          "metadata": {
            "tags": []
          },
          "execution_count": 117
        },
        {
          "output_type": "display_data",
          "data": {
            "image/png": "[encoded data removed]",
            "text/plain": [
              "<Figure size 432x288 with 1 Axes>"
            ]
          },
          "metadata": {
            "tags": [],
            "needs_background": "light"
          }
        }
      ]
    },
    {
      "cell_type": "code",
      "metadata": {
        "id": "VdYa9B4us19Q",
        "colab_type": "code",
        "outputId": "e472683a-297e-46cd-aaee-961893352341",
        "colab": {}
      },
      "source": [
        "df"
      ],
      "execution_count": 0,
      "outputs": [
        {
          "output_type": "execute_result",
          "data": {
            "text/html": [
              "<div>\n",
              "<style scoped>\n",
              "    .dataframe tbody tr th:only-of-type {\n",
              "        vertical-align: middle;\n",
              "    }\n",
              "\n",
              "    .dataframe tbody tr th {\n",
              "        vertical-align: top;\n",
              "    }\n",
              "\n",
              "    .dataframe thead th {\n",
              "        text-align: right;\n",
              "    }\n",
              "</style>\n",
              "<table border=\"1\" class=\"dataframe\">\n",
              "  <thead>\n",
              "    <tr style=\"text-align: right;\">\n",
              "      <th></th>\n",
              "      <th>fid</th>\n",
              "      <th>planning_application</th>\n",
              "      <th>max_height</th>\n",
              "      <th>parking_spaces</th>\n",
              "      <th>one_bed_units</th>\n",
              "      <th>two_bed_units</th>\n",
              "      <th>three_bed_units</th>\n",
              "      <th>four_plus_bed_units</th>\n",
              "      <th>has_underground_parking</th>\n",
              "      <th>studio_units</th>\n",
              "      <th>...</th>\n",
              "      <th>town</th>\n",
              "      <th>inspire_ids</th>\n",
              "      <th>on_corner</th>\n",
              "      <th>rejected_size</th>\n",
              "      <th>rejected_neighbour_effect</th>\n",
              "      <th>rejected_living_conditions</th>\n",
              "      <th>rejected_parking</th>\n",
              "      <th>rejected_local_character</th>\n",
              "      <th>units</th>\n",
              "      <th>reason_of_rejection</th>\n",
              "    </tr>\n",
              "  </thead>\n",
              "  <tbody>\n",
              "    <tr>\n",
              "      <td>0</td>\n",
              "      <td>1</td>\n",
              "      <td>18/04199/OUT</td>\n",
              "      <td>NaN</td>\n",
              "      <td>11</td>\n",
              "      <td>NaN</td>\n",
              "      <td>NaN</td>\n",
              "      <td>NaN</td>\n",
              "      <td>NaN</td>\n",
              "      <td>0.0</td>\n",
              "      <td>NaN</td>\n",
              "      <td>...</td>\n",
              "      <td>Bromley</td>\n",
              "      <td>40879904</td>\n",
              "      <td>NaN</td>\n",
              "      <td>NaN</td>\n",
              "      <td>NaN</td>\n",
              "      <td>NaN</td>\n",
              "      <td>NaN</td>\n",
              "      <td>NaN</td>\n",
              "      <td>9</td>\n",
              "      <td></td>\n",
              "    </tr>\n",
              "    <tr>\n",
              "      <td>1</td>\n",
              "      <td>2</td>\n",
              "      <td>16/04099/FULL1</td>\n",
              "      <td>8.802</td>\n",
              "      <td>8</td>\n",
              "      <td>NaN</td>\n",
              "      <td>NaN</td>\n",
              "      <td>NaN</td>\n",
              "      <td>NaN</td>\n",
              "      <td>NaN</td>\n",
              "      <td>NaN</td>\n",
              "      <td>...</td>\n",
              "      <td>Bromley</td>\n",
              "      <td>39022637</td>\n",
              "      <td>False</td>\n",
              "      <td>False</td>\n",
              "      <td>False</td>\n",
              "      <td>False</td>\n",
              "      <td>False</td>\n",
              "      <td>True</td>\n",
              "      <td>8</td>\n",
              "      <td>rejected_local_character</td>\n",
              "    </tr>\n",
              "    <tr>\n",
              "      <td>2</td>\n",
              "      <td>3</td>\n",
              "      <td>16/05875/FULL1</td>\n",
              "      <td>9.190</td>\n",
              "      <td>13</td>\n",
              "      <td>NaN</td>\n",
              "      <td>NaN</td>\n",
              "      <td>NaN</td>\n",
              "      <td>NaN</td>\n",
              "      <td>NaN</td>\n",
              "      <td>NaN</td>\n",
              "      <td>...</td>\n",
              "      <td>Bromley</td>\n",
              "      <td>53133601</td>\n",
              "      <td>True</td>\n",
              "      <td>NaN</td>\n",
              "      <td>NaN</td>\n",
              "      <td>NaN</td>\n",
              "      <td>NaN</td>\n",
              "      <td>NaN</td>\n",
              "      <td>9</td>\n",
              "      <td></td>\n",
              "    </tr>\n",
              "    <tr>\n",
              "      <td>3</td>\n",
              "      <td>4</td>\n",
              "      <td>16/03597/FULL1</td>\n",
              "      <td>9.730</td>\n",
              "      <td>13</td>\n",
              "      <td>NaN</td>\n",
              "      <td>NaN</td>\n",
              "      <td>NaN</td>\n",
              "      <td>NaN</td>\n",
              "      <td>NaN</td>\n",
              "      <td>NaN</td>\n",
              "      <td>...</td>\n",
              "      <td>Bromley</td>\n",
              "      <td>53133601</td>\n",
              "      <td>True</td>\n",
              "      <td>True</td>\n",
              "      <td>False</td>\n",
              "      <td>False</td>\n",
              "      <td>False</td>\n",
              "      <td>False</td>\n",
              "      <td>9</td>\n",
              "      <td>rejected_size</td>\n",
              "    </tr>\n",
              "    <tr>\n",
              "      <td>4</td>\n",
              "      <td>5</td>\n",
              "      <td>15/04152/FULL1</td>\n",
              "      <td>9.710</td>\n",
              "      <td>9</td>\n",
              "      <td>NaN</td>\n",
              "      <td>NaN</td>\n",
              "      <td>NaN</td>\n",
              "      <td>NaN</td>\n",
              "      <td>NaN</td>\n",
              "      <td>NaN</td>\n",
              "      <td>...</td>\n",
              "      <td>Bromley</td>\n",
              "      <td>59732233</td>\n",
              "      <td>False</td>\n",
              "      <td>NaN</td>\n",
              "      <td>NaN</td>\n",
              "      <td>NaN</td>\n",
              "      <td>NaN</td>\n",
              "      <td>NaN</td>\n",
              "      <td>8</td>\n",
              "      <td></td>\n",
              "    </tr>\n",
              "    <tr>\n",
              "      <td>...</td>\n",
              "      <td>...</td>\n",
              "      <td>...</td>\n",
              "      <td>...</td>\n",
              "      <td>...</td>\n",
              "      <td>...</td>\n",
              "      <td>...</td>\n",
              "      <td>...</td>\n",
              "      <td>...</td>\n",
              "      <td>...</td>\n",
              "      <td>...</td>\n",
              "      <td>...</td>\n",
              "      <td>...</td>\n",
              "      <td>...</td>\n",
              "      <td>...</td>\n",
              "      <td>...</td>\n",
              "      <td>...</td>\n",
              "      <td>...</td>\n",
              "      <td>...</td>\n",
              "      <td>...</td>\n",
              "      <td>...</td>\n",
              "      <td>...</td>\n",
              "    </tr>\n",
              "    <tr>\n",
              "      <td>108</td>\n",
              "      <td>109</td>\n",
              "      <td>18/01228/FULL1</td>\n",
              "      <td>9.000</td>\n",
              "      <td>5</td>\n",
              "      <td>5.0</td>\n",
              "      <td>1.0</td>\n",
              "      <td>0.0</td>\n",
              "      <td>0.0</td>\n",
              "      <td>0.0</td>\n",
              "      <td>2.0</td>\n",
              "      <td>...</td>\n",
              "      <td>London</td>\n",
              "      <td>37950806</td>\n",
              "      <td>False</td>\n",
              "      <td>NaN</td>\n",
              "      <td>NaN</td>\n",
              "      <td>NaN</td>\n",
              "      <td>NaN</td>\n",
              "      <td>NaN</td>\n",
              "      <td>8</td>\n",
              "      <td></td>\n",
              "    </tr>\n",
              "    <tr>\n",
              "      <td>109</td>\n",
              "      <td>110</td>\n",
              "      <td>17/05106/FULL1</td>\n",
              "      <td>9.000</td>\n",
              "      <td>5</td>\n",
              "      <td>5.0</td>\n",
              "      <td>2.0</td>\n",
              "      <td>1.0</td>\n",
              "      <td>0.0</td>\n",
              "      <td>0.0</td>\n",
              "      <td>0.0</td>\n",
              "      <td>...</td>\n",
              "      <td>London</td>\n",
              "      <td>37950806</td>\n",
              "      <td>False</td>\n",
              "      <td>True</td>\n",
              "      <td>True</td>\n",
              "      <td>False</td>\n",
              "      <td>False</td>\n",
              "      <td>False</td>\n",
              "      <td>8</td>\n",
              "      <td>rejected_size|rejected_neighbour_effect</td>\n",
              "    </tr>\n",
              "    <tr>\n",
              "      <td>110</td>\n",
              "      <td>111</td>\n",
              "      <td>17/01181/FULL1</td>\n",
              "      <td>12.000</td>\n",
              "      <td>4</td>\n",
              "      <td>2.0</td>\n",
              "      <td>6.0</td>\n",
              "      <td>1.0</td>\n",
              "      <td>0.0</td>\n",
              "      <td>0.0</td>\n",
              "      <td>0.0</td>\n",
              "      <td>...</td>\n",
              "      <td>London</td>\n",
              "      <td>37950806</td>\n",
              "      <td>False</td>\n",
              "      <td>True</td>\n",
              "      <td>True</td>\n",
              "      <td>True</td>\n",
              "      <td>True</td>\n",
              "      <td>False</td>\n",
              "      <td>9</td>\n",
              "      <td>rejected_size|rejected_neighbour_effect|reject...</td>\n",
              "    </tr>\n",
              "    <tr>\n",
              "      <td>111</td>\n",
              "      <td>112</td>\n",
              "      <td>17/02629/FULL1</td>\n",
              "      <td>7.490</td>\n",
              "      <td>3</td>\n",
              "      <td>2.0</td>\n",
              "      <td>4.0</td>\n",
              "      <td>0.0</td>\n",
              "      <td>0.0</td>\n",
              "      <td>0.0</td>\n",
              "      <td>0.0</td>\n",
              "      <td>...</td>\n",
              "      <td>London</td>\n",
              "      <td>37935591</td>\n",
              "      <td>True</td>\n",
              "      <td>True</td>\n",
              "      <td>False</td>\n",
              "      <td>False</td>\n",
              "      <td>False</td>\n",
              "      <td>False</td>\n",
              "      <td>6</td>\n",
              "      <td>rejected_size</td>\n",
              "    </tr>\n",
              "    <tr>\n",
              "      <td>112</td>\n",
              "      <td>113</td>\n",
              "      <td>17/00858/FULL1</td>\n",
              "      <td>8.160</td>\n",
              "      <td>4</td>\n",
              "      <td>3.0</td>\n",
              "      <td>4.0</td>\n",
              "      <td>0.0</td>\n",
              "      <td>0.0</td>\n",
              "      <td>0.0</td>\n",
              "      <td>0.0</td>\n",
              "      <td>...</td>\n",
              "      <td>London</td>\n",
              "      <td>37935591</td>\n",
              "      <td>True</td>\n",
              "      <td>True</td>\n",
              "      <td>True</td>\n",
              "      <td>True</td>\n",
              "      <td>False</td>\n",
              "      <td>False</td>\n",
              "      <td>7</td>\n",
              "      <td>rejected_size|rejected_neighbour_effect|reject...</td>\n",
              "    </tr>\n",
              "  </tbody>\n",
              "</table>\n",
              "<p>113 rows × 24 columns</p>\n",
              "</div>"
            ],
            "text/plain": [
              "     fid planning_application  max_height  parking_spaces  one_bed_units  \\\n",
              "0      1         18/04199/OUT         NaN              11            NaN   \n",
              "1      2       16/04099/FULL1       8.802               8            NaN   \n",
              "2      3       16/05875/FULL1       9.190              13            NaN   \n",
              "3      4       16/03597/FULL1       9.730              13            NaN   \n",
              "4      5       15/04152/FULL1       9.710               9            NaN   \n",
              "..   ...                  ...         ...             ...            ...   \n",
              "108  109       18/01228/FULL1       9.000               5            5.0   \n",
              "109  110       17/05106/FULL1       9.000               5            5.0   \n",
              "110  111       17/01181/FULL1      12.000               4            2.0   \n",
              "111  112       17/02629/FULL1       7.490               3            2.0   \n",
              "112  113       17/00858/FULL1       8.160               4            3.0   \n",
              "\n",
              "     two_bed_units  three_bed_units  four_plus_bed_units  \\\n",
              "0              NaN              NaN                  NaN   \n",
              "1              NaN              NaN                  NaN   \n",
              "2              NaN              NaN                  NaN   \n",
              "3              NaN              NaN                  NaN   \n",
              "4              NaN              NaN                  NaN   \n",
              "..             ...              ...                  ...   \n",
              "108            1.0              0.0                  0.0   \n",
              "109            2.0              1.0                  0.0   \n",
              "110            6.0              1.0                  0.0   \n",
              "111            4.0              0.0                  0.0   \n",
              "112            4.0              0.0                  0.0   \n",
              "\n",
              "     has_underground_parking  studio_units  ...     town inspire_ids  \\\n",
              "0                        0.0           NaN  ...  Bromley    40879904   \n",
              "1                        NaN           NaN  ...  Bromley    39022637   \n",
              "2                        NaN           NaN  ...  Bromley    53133601   \n",
              "3                        NaN           NaN  ...  Bromley    53133601   \n",
              "4                        NaN           NaN  ...  Bromley    59732233   \n",
              "..                       ...           ...  ...      ...         ...   \n",
              "108                      0.0           2.0  ...   London    37950806   \n",
              "109                      0.0           0.0  ...   London    37950806   \n",
              "110                      0.0           0.0  ...   London    37950806   \n",
              "111                      0.0           0.0  ...   London    37935591   \n",
              "112                      0.0           0.0  ...   London    37935591   \n",
              "\n",
              "    on_corner rejected_size rejected_neighbour_effect  \\\n",
              "0         NaN           NaN                       NaN   \n",
              "1       False         False                     False   \n",
              "2        True           NaN                       NaN   \n",
              "3        True          True                     False   \n",
              "4       False           NaN                       NaN   \n",
              "..        ...           ...                       ...   \n",
              "108     False           NaN                       NaN   \n",
              "109     False          True                      True   \n",
              "110     False          True                      True   \n",
              "111      True          True                     False   \n",
              "112      True          True                      True   \n",
              "\n",
              "    rejected_living_conditions rejected_parking rejected_local_character  \\\n",
              "0                          NaN              NaN                      NaN   \n",
              "1                        False            False                     True   \n",
              "2                          NaN              NaN                      NaN   \n",
              "3                        False            False                    False   \n",
              "4                          NaN              NaN                      NaN   \n",
              "..                         ...              ...                      ...   \n",
              "108                        NaN              NaN                      NaN   \n",
              "109                      False            False                    False   \n",
              "110                       True             True                    False   \n",
              "111                      False            False                    False   \n",
              "112                       True            False                    False   \n",
              "\n",
              "    units                                reason_of_rejection  \n",
              "0       9                                                     \n",
              "1       8                           rejected_local_character  \n",
              "2       9                                                     \n",
              "3       9                                      rejected_size  \n",
              "4       8                                                     \n",
              "..    ...                                                ...  \n",
              "108     8                                                     \n",
              "109     8            rejected_size|rejected_neighbour_effect  \n",
              "110     9  rejected_size|rejected_neighbour_effect|reject...  \n",
              "111     6                                      rejected_size  \n",
              "112     7  rejected_size|rejected_neighbour_effect|reject...  \n",
              "\n",
              "[113 rows x 24 columns]"
            ]
          },
          "metadata": {
            "tags": []
          },
          "execution_count": 14
        }
      ]
    },
    {
      "cell_type": "code",
      "metadata": {
        "id": "EFEgzfDjs19T",
        "colab_type": "code",
        "outputId": "a7e85574-1244-437b-8ade-674a6b84ab7d",
        "colab": {}
      },
      "source": [
        "sns.boxplot(data=df.fillna(-1), x='rejected_size', y='unites')"
      ],
      "execution_count": 0,
      "outputs": [
        {
          "output_type": "error",
          "ename": "ValueError",
          "evalue": "Could not interpret input 'unites'",
          "traceback": [
            "\u001b[1;31m---------------------------------------------------------------------------\u001b[0m",
            "\u001b[1;31mValueError\u001b[0m                                Traceback (most recent call last)",
            "\u001b[1;32m<ipython-input-13-1c76fff4e391>\u001b[0m in \u001b[0;36m<module>\u001b[1;34m\u001b[0m\n\u001b[1;32m----> 1\u001b[1;33m \u001b[0msns\u001b[0m\u001b[1;33m.\u001b[0m\u001b[0mboxplot\u001b[0m\u001b[1;33m(\u001b[0m\u001b[0mdata\u001b[0m\u001b[1;33m=\u001b[0m\u001b[0mdf\u001b[0m\u001b[1;33m.\u001b[0m\u001b[0mfillna\u001b[0m\u001b[1;33m(\u001b[0m\u001b[1;33m-\u001b[0m\u001b[1;36m1\u001b[0m\u001b[1;33m)\u001b[0m\u001b[1;33m,\u001b[0m \u001b[0mx\u001b[0m\u001b[1;33m=\u001b[0m\u001b[1;34m'rejected_size'\u001b[0m\u001b[1;33m,\u001b[0m \u001b[0my\u001b[0m\u001b[1;33m=\u001b[0m\u001b[1;34m'unites'\u001b[0m\u001b[1;33m)\u001b[0m\u001b[1;33m\u001b[0m\u001b[1;33m\u001b[0m\u001b[0m\n\u001b[0m",
            "\u001b[1;32m~\\Anaconda3\\lib\\site-packages\\seaborn\\categorical.py\u001b[0m in \u001b[0;36mboxplot\u001b[1;34m(x, y, hue, data, order, hue_order, orient, color, palette, saturation, width, dodge, fliersize, linewidth, whis, notch, ax, **kwargs)\u001b[0m\n\u001b[0;32m   2229\u001b[0m     plotter = _BoxPlotter(x, y, hue, data, order, hue_order,\n\u001b[0;32m   2230\u001b[0m                           \u001b[0morient\u001b[0m\u001b[1;33m,\u001b[0m \u001b[0mcolor\u001b[0m\u001b[1;33m,\u001b[0m \u001b[0mpalette\u001b[0m\u001b[1;33m,\u001b[0m \u001b[0msaturation\u001b[0m\u001b[1;33m,\u001b[0m\u001b[1;33m\u001b[0m\u001b[1;33m\u001b[0m\u001b[0m\n\u001b[1;32m-> 2231\u001b[1;33m                           width, dodge, fliersize, linewidth)\n\u001b[0m\u001b[0;32m   2232\u001b[0m \u001b[1;33m\u001b[0m\u001b[0m\n\u001b[0;32m   2233\u001b[0m     \u001b[1;32mif\u001b[0m \u001b[0max\u001b[0m \u001b[1;32mis\u001b[0m \u001b[1;32mNone\u001b[0m\u001b[1;33m:\u001b[0m\u001b[1;33m\u001b[0m\u001b[1;33m\u001b[0m\u001b[0m\n",
            "\u001b[1;32m~\\Anaconda3\\lib\\site-packages\\seaborn\\categorical.py\u001b[0m in \u001b[0;36m__init__\u001b[1;34m(self, x, y, hue, data, order, hue_order, orient, color, palette, saturation, width, dodge, fliersize, linewidth)\u001b[0m\n\u001b[0;32m    444\u001b[0m                  width, dodge, fliersize, linewidth):\n\u001b[0;32m    445\u001b[0m \u001b[1;33m\u001b[0m\u001b[0m\n\u001b[1;32m--> 446\u001b[1;33m         \u001b[0mself\u001b[0m\u001b[1;33m.\u001b[0m\u001b[0mestablish_variables\u001b[0m\u001b[1;33m(\u001b[0m\u001b[0mx\u001b[0m\u001b[1;33m,\u001b[0m \u001b[0my\u001b[0m\u001b[1;33m,\u001b[0m \u001b[0mhue\u001b[0m\u001b[1;33m,\u001b[0m \u001b[0mdata\u001b[0m\u001b[1;33m,\u001b[0m \u001b[0morient\u001b[0m\u001b[1;33m,\u001b[0m \u001b[0morder\u001b[0m\u001b[1;33m,\u001b[0m \u001b[0mhue_order\u001b[0m\u001b[1;33m)\u001b[0m\u001b[1;33m\u001b[0m\u001b[1;33m\u001b[0m\u001b[0m\n\u001b[0m\u001b[0;32m    447\u001b[0m         \u001b[0mself\u001b[0m\u001b[1;33m.\u001b[0m\u001b[0mestablish_colors\u001b[0m\u001b[1;33m(\u001b[0m\u001b[0mcolor\u001b[0m\u001b[1;33m,\u001b[0m \u001b[0mpalette\u001b[0m\u001b[1;33m,\u001b[0m \u001b[0msaturation\u001b[0m\u001b[1;33m)\u001b[0m\u001b[1;33m\u001b[0m\u001b[1;33m\u001b[0m\u001b[0m\n\u001b[0;32m    448\u001b[0m \u001b[1;33m\u001b[0m\u001b[0m\n",
            "\u001b[1;32m~\\Anaconda3\\lib\\site-packages\\seaborn\\categorical.py\u001b[0m in \u001b[0;36mestablish_variables\u001b[1;34m(self, x, y, hue, data, orient, order, hue_order, units)\u001b[0m\n\u001b[0;32m    153\u001b[0m                 \u001b[1;32mif\u001b[0m \u001b[0misinstance\u001b[0m\u001b[1;33m(\u001b[0m\u001b[0minput\u001b[0m\u001b[1;33m,\u001b[0m \u001b[0mstring_types\u001b[0m\u001b[1;33m)\u001b[0m\u001b[1;33m:\u001b[0m\u001b[1;33m\u001b[0m\u001b[1;33m\u001b[0m\u001b[0m\n\u001b[0;32m    154\u001b[0m                     \u001b[0merr\u001b[0m \u001b[1;33m=\u001b[0m \u001b[1;34m\"Could not interpret input '{}'\"\u001b[0m\u001b[1;33m.\u001b[0m\u001b[0mformat\u001b[0m\u001b[1;33m(\u001b[0m\u001b[0minput\u001b[0m\u001b[1;33m)\u001b[0m\u001b[1;33m\u001b[0m\u001b[1;33m\u001b[0m\u001b[0m\n\u001b[1;32m--> 155\u001b[1;33m                     \u001b[1;32mraise\u001b[0m \u001b[0mValueError\u001b[0m\u001b[1;33m(\u001b[0m\u001b[0merr\u001b[0m\u001b[1;33m)\u001b[0m\u001b[1;33m\u001b[0m\u001b[1;33m\u001b[0m\u001b[0m\n\u001b[0m\u001b[0;32m    156\u001b[0m \u001b[1;33m\u001b[0m\u001b[0m\n\u001b[0;32m    157\u001b[0m             \u001b[1;31m# Figure out the plotting orientation\u001b[0m\u001b[1;33m\u001b[0m\u001b[1;33m\u001b[0m\u001b[1;33m\u001b[0m\u001b[0m\n",
            "\u001b[1;31mValueError\u001b[0m: Could not interpret input 'unites'"
          ]
        }
      ]
    },
    {
      "cell_type": "code",
      "metadata": {
        "id": "DyLYODN4s19Y",
        "colab_type": "code",
        "outputId": "5692821d-a2e6-40ac-8149-b0129874cb94",
        "colab": {}
      },
      "source": [
        "df.groupby('rejected_size')['max_height'].median()"
      ],
      "execution_count": 0,
      "outputs": [
        {
          "output_type": "execute_result",
          "data": {
            "text/plain": [
              "rejected_size\n",
              "False    8.802\n",
              "True     9.280\n",
              "Name: max_height, dtype: float64"
            ]
          },
          "metadata": {
            "tags": []
          },
          "execution_count": 75
        }
      ]
    },
    {
      "cell_type": "code",
      "metadata": {
        "scrolled": false,
        "id": "qnqz2Gzcs19b",
        "colab_type": "code",
        "outputId": "ccddc35a-e248-4e28-973f-54c6944a8096",
        "colab": {}
      },
      "source": [
        "for j in range(df.shape[0]):\n",
        "    print(j)\n",
        "    print('|'.join([i for i,v in df.loc[j].items() if v==True ]))"
      ],
      "execution_count": 0,
      "outputs": [
        {
          "output_type": "stream",
          "text": [
            "0\n",
            "fid\n",
            "1\n",
            "rejected_local_character\n",
            "2\n",
            "on_corner\n",
            "3\n",
            "on_corner|rejected_size\n",
            "4\n",
            "\n",
            "5\n",
            "three_bed_units|has_underground_parking|on_corner|rejected_neighbour_effect\n",
            "6\n",
            "three_bed_units|on_corner|rejected_neighbour_effect\n",
            "7\n",
            "on_corner\n",
            "8\n",
            "on_corner|rejected_living_conditions\n",
            "9\n",
            "has_underground_parking|on_corner\n",
            "10\n",
            "has_underground_parking|on_corner|rejected_living_conditions\n",
            "11\n",
            "has_underground_parking|on_corner|rejected_size|rejected_neighbour_effect|rejected_living_conditions|rejected_parking\n",
            "12\n",
            "has_underground_parking|on_corner|rejected_size|rejected_neighbour_effect\n",
            "13\n",
            "two_bed_units|on_highstreet|rejected_size|rejected_neighbour_effect|rejected_parking\n",
            "14\n",
            "\n",
            "15\n",
            "rejected_size\n",
            "16\n",
            "\n",
            "17\n",
            "\n",
            "18\n",
            "one_bed_units|rejected_size|rejected_neighbour_effect|rejected_living_conditions\n",
            "19\n",
            "\n",
            "20\n",
            "one_bed_units\n",
            "21\n",
            "\n",
            "22\n",
            "on_corner\n",
            "23\n",
            "rejected_size|rejected_neighbour_effect|rejected_living_conditions|rejected_local_character\n",
            "24\n",
            "on_highstreet|on_corner|rejected_size|rejected_neighbour_effect|rejected_parking|rejected_local_character\n",
            "25\n",
            "rejected_size|rejected_neighbour_effect|rejected_living_conditions\n",
            "26\n",
            "\n",
            "27\n",
            "\n",
            "28\n",
            "rejected_size\n",
            "29\n",
            "two_bed_units|on_corner\n",
            "30\n",
            "on_corner|rejected_size\n",
            "31\n",
            "on_corner\n",
            "32\n",
            "on_corner|rejected_parking\n",
            "33\n",
            "on_corner|rejected_size|rejected_neighbour_effect\n",
            "34\n",
            "on_corner|rejected_neighbour_effect|rejected_local_character\n",
            "35\n",
            "on_corner|rejected_parking|rejected_local_character\n",
            "36\n",
            "on_corner\n",
            "37\n",
            "three_bed_units\n",
            "38\n",
            "\n",
            "39\n",
            "rejected_size\n",
            "40\n",
            "on_highstreet\n",
            "41\n",
            "rejected_size|rejected_neighbour_effect|rejected_parking\n",
            "42\n",
            "one_bed_units|rejected_size|rejected_neighbour_effect|rejected_living_conditions|rejected_parking\n",
            "43\n",
            "rejected_size|rejected_living_conditions\n",
            "44\n",
            "\n",
            "45\n",
            "rejected_size|rejected_neighbour_effect\n",
            "46\n",
            "on_corner\n",
            "47\n",
            "three_bed_units|on_corner\n",
            "48\n",
            "on_highstreet|rejected_parking|rejected_local_character\n",
            "49\n",
            "has_underground_parking|rejected_size\n",
            "50\n",
            "has_underground_parking|rejected_size\n",
            "51\n",
            "has_underground_parking\n",
            "52\n",
            "has_underground_parking|rejected_size\n",
            "53\n",
            "three_bed_units|on_corner|rejected_size|rejected_neighbour_effect\n",
            "54\n",
            "two_bed_units|on_corner\n",
            "55\n",
            "\n",
            "56\n",
            "one_bed_units|on_highstreet|rejected_size|rejected_neighbour_effect\n",
            "57\n",
            "on_highstreet|rejected_size|rejected_living_conditions\n",
            "58\n",
            "three_bed_units|on_highstreet|on_corner|rejected_size|rejected_neighbour_effect|rejected_living_conditions|rejected_parking\n",
            "59\n",
            "\n",
            "60\n",
            "\n",
            "61\n",
            "on_corner\n",
            "62\n",
            "on_corner|rejected_size\n",
            "63\n",
            "on_corner|rejected_size\n",
            "64\n",
            "rejected_living_conditions|rejected_local_character\n",
            "65\n",
            "\n",
            "66\n",
            "one_bed_units\n",
            "67\n",
            "on_corner\n",
            "68\n",
            "\n",
            "69\n",
            "\n",
            "70\n",
            "rejected_size\n",
            "71\n",
            "on_corner|rejected_local_character\n",
            "72\n",
            "rejected_size|rejected_living_conditions\n",
            "73\n",
            "rejected_size\n",
            "74\n",
            "on_corner|rejected_size|rejected_neighbour_effect\n",
            "75\n",
            "on_corner|rejected_size|rejected_neighbour_effect|rejected_living_conditions\n",
            "76\n",
            "rejected_size|rejected_living_conditions\n",
            "77\n",
            "rejected_size|rejected_neighbour_effect|rejected_living_conditions|rejected_parking\n",
            "78\n",
            "rejected_size|rejected_neighbour_effect\n",
            "79\n",
            "three_bed_units|rejected_size|rejected_neighbour_effect|rejected_living_conditions\n",
            "80\n",
            "rejected_size|rejected_neighbour_effect|rejected_parking|rejected_local_character\n",
            "81\n",
            "rejected_size|rejected_neighbour_effect\n",
            "82\n",
            "rejected_size|rejected_neighbour_effect\n",
            "83\n",
            "one_bed_units|on_highstreet\n",
            "84\n",
            "rejected_size|rejected_neighbour_effect\n",
            "85\n",
            "\n",
            "86\n",
            "\n",
            "87\n",
            "on_corner\n",
            "88\n",
            "on_corner|rejected_size|rejected_parking\n",
            "89\n",
            "on_corner|rejected_size|rejected_neighbour_effect|rejected_parking\n",
            "90\n",
            "rejected_parking\n",
            "91\n",
            "\n",
            "92\n",
            "\n",
            "93\n",
            "\n",
            "94\n",
            "has_underground_parking|on_corner\n",
            "95\n",
            "has_underground_parking|rejected_neighbour_effect\n",
            "96\n",
            "has_underground_parking\n",
            "97\n",
            "four_plus_bed_units\n",
            "98\n",
            "three_bed_units|on_highstreet|on_corner\n",
            "99\n",
            "rejected_size|rejected_neighbour_effect|rejected_living_conditions\n",
            "100\n",
            "one_bed_units|three_bed_units|on_highstreet\n",
            "101\n",
            "on_highstreet\n",
            "102\n",
            "on_highstreet\n",
            "103\n",
            "\n",
            "104\n",
            "has_underground_parking\n",
            "105\n",
            "has_underground_parking|rejected_size|rejected_living_conditions\n",
            "106\n",
            "on_highstreet\n",
            "107\n",
            "rejected_size|rejected_neighbour_effect\n",
            "108\n",
            "two_bed_units\n",
            "109\n",
            "three_bed_units|rejected_size|rejected_neighbour_effect\n",
            "110\n",
            "three_bed_units|rejected_size|rejected_neighbour_effect|rejected_living_conditions|rejected_parking\n",
            "111\n",
            "on_corner|rejected_size\n",
            "112\n",
            "on_corner|rejected_size|rejected_neighbour_effect|rejected_living_conditions\n"
          ],
          "name": "stdout"
        }
      ]
    },
    {
      "cell_type": "code",
      "metadata": {
        "id": "qza-_0wys19d",
        "colab_type": "code",
        "outputId": "6424bd58-b50b-4e49-9d31-be440596f5fd",
        "colab": {}
      },
      "source": [
        "df.shape"
      ],
      "execution_count": 0,
      "outputs": [
        {
          "output_type": "execute_result",
          "data": {
            "text/plain": [
              "(113, 24)"
            ]
          },
          "metadata": {
            "tags": []
          },
          "execution_count": 57
        }
      ]
    }
  ]
}